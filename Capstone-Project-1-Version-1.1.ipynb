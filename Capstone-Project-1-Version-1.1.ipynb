{
 "cells": [
  {
   "cell_type": "markdown",
   "metadata": {},
   "source": [
    "# Capstone Project - Meteorite Landings \n",
    "\n",
    "## Context \n",
    "\n",
    "Meteorites have always fascinated by their unpredictability. They were constantly illustrated in Sci-Fi movies as devastating for the human race; they can, in essence, hit everywhere and anywhere, causing irreparable damages - insurmountable for the protagonists and for Planet Earth by transitivity. \n",
    "\n",
    "The reality is slightly different. As you will discover throughout the analysis that I have conducted, meteorites' impact have been amplified by movie directors, pejoratively. Of course they remain unpredictable, but rather inoffensive. \n",
    "\n",
    "## Purpose\n",
    "\n",
    "Meteorites are intriguing. That is why I chose to learn more about them. The general objective of this analysis is to understand them to alleviate the ambiguity that they engender. To explore the dataset I started by an EDA, then I visualized the data, conducted a statistical analysis on it and then built a machine learning model to try to predict the next meteorite landings. \n",
    "\n",
    "I believe this study will not only be interesting to astrophysicists but to everyone who is interested in space exploration.\n",
    "\n",
    "That said, let us dive into the engrossing world of meteorites. "
   ]
  },
  {
   "cell_type": "code",
   "execution_count": 312,
   "metadata": {},
   "outputs": [
    {
     "name": "stdout",
     "output_type": "stream",
     "text": [
      "The autoreload extension is already loaded. To reload it, use:\n",
      "  %reload_ext autoreload\n"
     ]
    }
   ],
   "source": [
    "%load_ext autoreload\n",
    "%autoreload 2\n",
    "\n",
    "%matplotlib inline"
   ]
  },
  {
   "cell_type": "code",
   "execution_count": 313,
   "metadata": {},
   "outputs": [],
   "source": [
    "from fastai.imports import *\n",
    "from fastai.structured import *\n",
    "\n",
    "from pandas_summary import DataFrameSummary\n",
    "from sklearn.ensemble import RandomForestRegressor, RandomForestClassifier\n",
    "from IPython.display import display\n",
    "from matplotlib.pyplot import figure\n",
    "from scipy.stats import norm\n",
    "from sklearn.model_selection import train_test_split, KFold, cross_val_score, TimeSeriesSplit\n",
    "from scipy import stats\n",
    "from sklearn import metrics"
   ]
  },
  {
   "cell_type": "markdown",
   "metadata": {},
   "source": [
    "\n",
    "# I. Data Wrangling\n",
    "## 1. Primary Exploratory Data Analysis\n",
    "### 1.1. Dataset\n",
    " I have chosen to work on an interesting dataset that I found on the NASA’s website\n",
    "(https://data.nasa.gov/Space-Science/Meteorite-Landings/gh4g-9sfh), encompassing the\n",
    "complete list of around 45000 meteorite landings on earth since the year 601. Each meteorite\n",
    "is further described by the 10 columns listed below:\n",
    "\n",
    "▪ name: the name of the meteorite (typically a location, often modified with a\n",
    "number, year, composition, etc)\n",
    "\n",
    "▪ id: a unique identifier for the meteorite\n",
    "\n",
    "▪ nametype: one of: -- valid: a typical meteorite -- relict: a meteorite that has\n",
    "been highly degraded by weather on Earth\n",
    "\n",
    "▪ recclass: the class of the meteorite; one of a large number of classes based on\n",
    "physical, chemical, and other characteristics\n",
    "\n",
    "▪ mass: the mass of the meteorite, in grams\n",
    "\n",
    "▪ fall: whether the meteorite was seen falling, or was discovered after its\n",
    "impact; one of: -- Fell: the meteorite's fall was observed -- Found: the\n",
    "meteorite's fall was not observed\n",
    "\n",
    "▪ year: the year the meteorite fell, or the year it was found (depending on the\n",
    "value of fell)\n",
    "\n",
    "▪ reclat: the latitude of the meteorite's landing\n",
    "\n",
    "▪ reclong: the longitude of the meteorite's landing\n",
    "\n",
    "▪ GeoLocation: a parentheses-enclose, comma-separated tuple that\n",
    "combines reclat and reclong"
   ]
  },
  {
   "cell_type": "code",
   "execution_count": 314,
   "metadata": {},
   "outputs": [],
   "source": [
    "# Reading the CSV file\n",
    "# The result is a Pandas DataFrame (data). A datatype easy to read\n",
    "data = pd.read_csv('/users/youcefdjeddar/downloads/meteorite-landings.csv')"
   ]
  },
  {
   "cell_type": "code",
   "execution_count": 315,
   "metadata": {},
   "outputs": [
    {
     "data": {
      "text/html": [
       "<div>\n",
       "<style scoped>\n",
       "    .dataframe tbody tr th:only-of-type {\n",
       "        vertical-align: middle;\n",
       "    }\n",
       "\n",
       "    .dataframe tbody tr th {\n",
       "        vertical-align: top;\n",
       "    }\n",
       "\n",
       "    .dataframe thead th {\n",
       "        text-align: right;\n",
       "    }\n",
       "</style>\n",
       "<table border=\"1\" class=\"dataframe\">\n",
       "  <thead>\n",
       "    <tr style=\"text-align: right;\">\n",
       "      <th></th>\n",
       "      <th>name</th>\n",
       "      <th>id</th>\n",
       "      <th>nametype</th>\n",
       "      <th>recclass</th>\n",
       "      <th>mass</th>\n",
       "      <th>fall</th>\n",
       "      <th>year</th>\n",
       "      <th>reclat</th>\n",
       "      <th>reclong</th>\n",
       "      <th>GeoLocation</th>\n",
       "    </tr>\n",
       "  </thead>\n",
       "  <tbody>\n",
       "    <tr>\n",
       "      <th>0</th>\n",
       "      <td>Aachen</td>\n",
       "      <td>1</td>\n",
       "      <td>Valid</td>\n",
       "      <td>L5</td>\n",
       "      <td>21.0</td>\n",
       "      <td>Fell</td>\n",
       "      <td>1880.0</td>\n",
       "      <td>50.77500</td>\n",
       "      <td>6.08333</td>\n",
       "      <td>(50.775000, 6.083330)</td>\n",
       "    </tr>\n",
       "    <tr>\n",
       "      <th>1</th>\n",
       "      <td>Aarhus</td>\n",
       "      <td>2</td>\n",
       "      <td>Valid</td>\n",
       "      <td>H6</td>\n",
       "      <td>720.0</td>\n",
       "      <td>Fell</td>\n",
       "      <td>1951.0</td>\n",
       "      <td>56.18333</td>\n",
       "      <td>10.23333</td>\n",
       "      <td>(56.183330, 10.233330)</td>\n",
       "    </tr>\n",
       "    <tr>\n",
       "      <th>2</th>\n",
       "      <td>Abee</td>\n",
       "      <td>6</td>\n",
       "      <td>Valid</td>\n",
       "      <td>EH4</td>\n",
       "      <td>107000.0</td>\n",
       "      <td>Fell</td>\n",
       "      <td>1952.0</td>\n",
       "      <td>54.21667</td>\n",
       "      <td>-113.00000</td>\n",
       "      <td>(54.216670, -113.000000)</td>\n",
       "    </tr>\n",
       "  </tbody>\n",
       "</table>\n",
       "</div>"
      ],
      "text/plain": [
       "     name  id nametype recclass      mass  fall    year    reclat    reclong  \\\n",
       "0  Aachen   1    Valid       L5      21.0  Fell  1880.0  50.77500    6.08333   \n",
       "1  Aarhus   2    Valid       H6     720.0  Fell  1951.0  56.18333   10.23333   \n",
       "2    Abee   6    Valid      EH4  107000.0  Fell  1952.0  54.21667 -113.00000   \n",
       "\n",
       "                GeoLocation  \n",
       "0     (50.775000, 6.083330)  \n",
       "1    (56.183330, 10.233330)  \n",
       "2  (54.216670, -113.000000)  "
      ]
     },
     "execution_count": 315,
     "metadata": {},
     "output_type": "execute_result"
    }
   ],
   "source": [
    "# Exploring the data using the .head() method \n",
    "data.head(3)"
   ]
  },
  {
   "cell_type": "code",
   "execution_count": 316,
   "metadata": {},
   "outputs": [
    {
     "name": "stdout",
     "output_type": "stream",
     "text": [
      "name              0\n",
      "id                0\n",
      "nametype          0\n",
      "recclass          0\n",
      "mass            131\n",
      "fall              0\n",
      "year            288\n",
      "reclat         7315\n",
      "reclong        7315\n",
      "GeoLocation    7315\n",
      "dtype: int64\n"
     ]
    }
   ],
   "source": [
    "# Looking for missing values \n",
    "missing_values_count = data.isnull().sum() \n",
    "print(missing_values_count)"
   ]
  },
  {
   "cell_type": "code",
   "execution_count": 317,
   "metadata": {},
   "outputs": [
    {
     "data": {
      "text/plain": [
       "True"
      ]
     },
     "execution_count": 317,
     "metadata": {},
     "output_type": "execute_result"
    }
   ],
   "source": [
    "# Checking that the ID column has unique values\n",
    "data['id'].is_unique"
   ]
  },
  {
   "cell_type": "code",
   "execution_count": 318,
   "metadata": {},
   "outputs": [
    {
     "name": "stdout",
     "output_type": "stream",
     "text": [
      "The percentage of missing values in the mass column is: 0.28655175430921337 %\n",
      "The percentage of missing values in the year column is: 0.6299763758859043 %\n",
      "The percentage of missing values in the location column is: 16.0009624639076 %\n"
     ]
    }
   ],
   "source": [
    "# Determining the percentage of missing values for each column\n",
    "mass_missing_values = (missing_values_count['mass']/len(data.mass)) * 100 \n",
    "year_missing_values = (missing_values_count['year']/len(data.year)) * 100 \n",
    "location_missing_values = (missing_values_count['GeoLocation']/len(data.GeoLocation)) * 100\n",
    "print('The percentage of missing values in the mass column is:', mass_missing_values,'%')\n",
    "print ('The percentage of missing values in the year column is:', year_missing_values,'%') \n",
    "print('The percentage of missing values in the location column is:', location_missing_values,'%')"
   ]
  },
  {
   "cell_type": "code",
   "execution_count": 319,
   "metadata": {},
   "outputs": [
    {
     "data": {
      "text/plain": [
       "name           0\n",
       "id             0\n",
       "nametype       0\n",
       "recclass       0\n",
       "mass           0\n",
       "fall           0\n",
       "year           0\n",
       "reclat         0\n",
       "reclong        0\n",
       "GeoLocation    0\n",
       "dtype: int64"
      ]
     },
     "execution_count": 319,
     "metadata": {},
     "output_type": "execute_result"
    }
   ],
   "source": [
    "# Since it is impossible to guess the values of the missing data, it is preferable to delete them \n",
    "# We can see that all the missing values are gone\n",
    "data = data.dropna()\n",
    "data.isnull().sum()"
   ]
  },
  {
   "cell_type": "code",
   "execution_count": 320,
   "metadata": {},
   "outputs": [
    {
     "name": "stdout",
     "output_type": "stream",
     "text": [
      "<class 'pandas.core.frame.DataFrame'>\n",
      "Int64Index: 38116 entries, 0 to 45715\n",
      "Data columns (total 10 columns):\n",
      "name           38116 non-null object\n",
      "id             38116 non-null int64\n",
      "nametype       38116 non-null object\n",
      "recclass       38116 non-null object\n",
      "mass           38116 non-null float64\n",
      "fall           38116 non-null object\n",
      "year           38116 non-null float64\n",
      "reclat         38116 non-null float64\n",
      "reclong        38116 non-null float64\n",
      "GeoLocation    38116 non-null object\n",
      "dtypes: float64(4), int64(1), object(5)\n",
      "memory usage: 3.2+ MB\n"
     ]
    }
   ],
   "source": [
    "# Getting some information about our dataset\n",
    "data.info()"
   ]
  },
  {
   "cell_type": "code",
   "execution_count": 321,
   "metadata": {},
   "outputs": [
    {
     "name": "stdout",
     "output_type": "stream",
     "text": [
      "L6                 7519\n",
      "H5                 6243\n",
      "H6                 3898\n",
      "H4                 3880\n",
      "L5                 3264\n",
      "LL5                2199\n",
      "LL6                1660\n",
      "L4                  939\n",
      "H4/5                395\n",
      "CM2                 330\n",
      "H3                  313\n",
      "CO3                 308\n",
      "Iron, IIIAB         270\n",
      "L3                  268\n",
      "LL                  223\n",
      "Ureilite            214\n",
      "E3                  205\n",
      "LL4                 198\n",
      "CV3                 184\n",
      "Howardite           179\n",
      "Diogenite           178\n",
      "Eucrite-pmict       169\n",
      "H5/6                166\n",
      "CR2                 116\n",
      "Eucrite             115\n",
      "Iron, IIAB          111\n",
      "Mesosiderite        107\n",
      "H~5                 106\n",
      "Iron, ungrouped     105\n",
      "LL3                  88\n",
      "                   ... \n",
      "EH6-an                1\n",
      "H3.8-5                1\n",
      "C4/5                  1\n",
      "H3.8-4                1\n",
      "LL3-5                 1\n",
      "H3.8/3.9              1\n",
      "CV2                   1\n",
      "L/LL3.2               1\n",
      "LL3.1-3.5             1\n",
      "Mesosiderite-B        1\n",
      "H(L)3                 1\n",
      "CK                    1\n",
      "LL6-an                1\n",
      "R3-4                  1\n",
      "L(LL)3.5-3.7          1\n",
      "CH/CBb                1\n",
      "H3.7/3.8              1\n",
      "Mesosiderite-C        1\n",
      "H3.2-3.7              1\n",
      "L/LL3.10              1\n",
      "Mesosiderite?         1\n",
      "L3.9-5                1\n",
      "Relict iron           1\n",
      "Iron, IIAB-an         1\n",
      "Lodranite-an          1\n",
      "L/LL6-an              1\n",
      "L/LL3.6/3.7           1\n",
      "L3.5-3.8              1\n",
      "H3.8-6                1\n",
      "L4-melt breccia       1\n",
      "Name: recclass, Length: 422, dtype: int64\n"
     ]
    }
   ],
   "source": [
    "# Let's see how many meteorite classes the dataset has\n",
    "meteorite_class = data['recclass'].value_counts() \n",
    "print(meteorite_class)"
   ]
  },
  {
   "cell_type": "code",
   "execution_count": 322,
   "metadata": {},
   "outputs": [
    {
     "name": "stdout",
     "output_type": "stream",
     "text": [
      "Top 10 meteorite classes: 30327\n"
     ]
    }
   ],
   "source": [
    "# Below we can see that the top ten classes encompass 30k meteorites, which is a lot\n",
    "print('Top 10 meteorite classes:', meteorite_class[:10].sum())"
   ]
  },
  {
   "cell_type": "code",
   "execution_count": 323,
   "metadata": {},
   "outputs": [
    {
     "name": "stdout",
     "output_type": "stream",
     "text": [
      "79.56501206842272\n"
     ]
    }
   ],
   "source": [
    "# Nearly 80% of all the meteorites belong to one of the top ten classes\n",
    "percentage_meteorites_in_the_top_ten_classes = (meteorite_class[:10].sum()/len(data)) * 100\n",
    "print (percentage_meteorites_in_the_top_ten_classes)"
   ]
  },
  {
   "cell_type": "markdown",
   "metadata": {},
   "source": [
    "Since 80% of the meteorites belong to one of the top ten classes, I will focus primarily on them."
   ]
  },
  {
   "cell_type": "code",
   "execution_count": 324,
   "metadata": {},
   "outputs": [],
   "source": [
    "# Extracting the needed data (from the top 10 classes)\n",
    "top_10 = data['recclass'].value_counts().index.tolist()[:10]\n",
    "df = data[data['recclass'].isin(top_10)]"
   ]
  },
  {
   "cell_type": "code",
   "execution_count": 325,
   "metadata": {},
   "outputs": [
    {
     "data": {
      "text/plain": [
       "30327"
      ]
     },
     "execution_count": 325,
     "metadata": {},
     "output_type": "execute_result"
    }
   ],
   "source": [
    "len(df)"
   ]
  },
  {
   "cell_type": "markdown",
   "metadata": {},
   "source": [
    "The DataFrame \"df\" is now regrouping the meteorites of the top ten classes only. \n",
    "\n",
    "Let's now do some data visualization to understand more our data."
   ]
  },
  {
   "cell_type": "markdown",
   "metadata": {},
   "source": [
    "# II. Data Visualization\n",
    "## 1. Intro\n",
    " The initial dataset from the NASA had 422 meteorite classes in it. A high number that did not\n",
    "necessarily reflect the distribution of meteorites. Indeed, as shown in the Phase-1 (Data\n",
    "Wrangling), the top ten meteorite classes encompassed approximately 80% of the total number\n",
    "of meteorites. For that reason, I decided to neglect – for now, the remaining 20% of the data – for\n",
    "a more concrete analysis.\n",
    "## 2. Visualization\n",
    "### 2.1. Scatter Plot\n",
    " After extracting the needed segments, I used the Matplotlib Library to generate a Scatter\n",
    "Plot (meteorite classes on the x-axis and their mass on the y-axis) to see the distribution of the\n",
    "mass per class. Surprisingly, with the notable exception of a few outliers, the distribution was\n",
    "quite homogenous among the ten classes, with the majority of the meteorites having a mass\n",
    "range 0-500kg. Here are some conclusions:\n",
    "\n",
    "▪ The heaviest meteorite belongs to the H5 class;\n",
    "\n",
    "▪ The class L6 is more homogenous;\n",
    "\n",
    "▪ The class CM2 has the lightest meteorites.\n",
    "\n",
    "### 2.2. Seaborn lmplot\n",
    " I used the Seaborn Library to visualize a sort of a time-series plot showing the distribution\n",
    "of the landings throughout the entire timescale of the dataset. Not surprisingly, most of the landings\n",
    "occurred after the 19th century, which can be explained by the restricted technological advances\n",
    "prior to that time, where only landings that were actually observed by humans were recorded.\n",
    "The third plot shows the mass of the meteorites that landed throughout the timescale. Here are\n",
    "some conclusions:\n",
    "\n",
    "▪ Accurate landing records really started in the 19th century;\n",
    "\n",
    "▪ Recent meteorites seem to be heavier – which is probably due to the drastic\n",
    "increase of the landing records recently. More records => more meteorite\n",
    "landings => potentially heavier meteorites.\n",
    "### 2.3. Plotly Library\n",
    "#### 2.3.1. Scatter Plot\n",
    "I opted for the Plotly Library for more esthetic plots. It’s a bit slower and requires an\n",
    "API-Key to run adequately but it provides a variety of options that cannot be found\n",
    "elsewhere. The scatter plot shows the distribution of the top ten meteorite classes. We\n",
    "can learn, for example, that the L6 class is the oldest class observed and that the H4/5\n",
    "class is contemporary.\n",
    "#### 2.3.2. Scatter Map Box\n",
    "This is, I believe, the most interesting plot provided by the Plotly Library. I tried to plot\n",
    "the geo-location of about 35.000 the meteorite on the dataset, based on the latitude and\n",
    "the longitude of the places where they landed. Surprisingly, only a minority of the\n",
    "meteorites landed in the seas/oceans, despite them constituting around 70% of the\n",
    "planet. "
   ]
  },
  {
   "cell_type": "code",
   "execution_count": 15,
   "metadata": {},
   "outputs": [
    {
     "data": {
      "image/png": "[encoded data removed]",
      "text/plain": [
       "<Figure size 640x480 with 1 Axes>"
      ]
     },
     "metadata": {},
     "output_type": "display_data"
    }
   ],
   "source": [
    "# Scatter plot of the ten meteorite classes on the x-axis and the mass of each meteorite on the y-axis\n",
    "figure(num=None, figsize=(8, 6), dpi=80, facecolor='w', edgecolor='k')\n",
    "sns.set()\n",
    "plt.scatter(df.recclass, df.mass/1000, marker = 'o', color = 'blue', label = 'mass')\n",
    "plt.xlabel('Meteorite Classes')\n",
    "plt.ylabel('Mass (kg)')\n",
    "plt.title('Scatter Plot')\n",
    "plt.margins (0.2)"
   ]
  },
  {
   "cell_type": "code",
   "execution_count": 19,
   "metadata": {},
   "outputs": [
    {
     "data": {
      "text/plain": [
       "<seaborn.axisgrid.FacetGrid at 0x12138bc88>"
      ]
     },
     "execution_count": 19,
     "metadata": {},
     "output_type": "execute_result"
    },
    {
     "data": {
      "image/png": "[encoded data removed]",
      "text/plain": [
       "<Figure size 360x360 with 1 Axes>"
      ]
     },
     "metadata": {},
     "output_type": "display_data"
    }
   ],
   "source": [
    "sns.lmplot('year', 'id', data=df, fit_reg=False)\n",
    "# The plot shows that the landing frequency significantly increased starting from the 19th century"
   ]
  },
  {
   "cell_type": "code",
   "execution_count": 17,
   "metadata": {},
   "outputs": [
    {
     "data": {
      "text/plain": [
       "<seaborn.axisgrid.FacetGrid at 0x11ee9be80>"
      ]
     },
     "execution_count": 17,
     "metadata": {},
     "output_type": "execute_result"
    },
    {
     "data": {
      "image/png": "[encoded data removed]",
      "text/plain": [
       "<Figure size 360x360 with 1 Axes>"
      ]
     },
     "metadata": {},
     "output_type": "display_data"
    }
   ],
   "source": [
    "sns.lmplot('year', 'mass', data=df, fit_reg=False)\n",
    "# The plot below shows that most of the contemporary meteorites are heavier"
   ]
  },
  {
   "cell_type": "code",
   "execution_count": 18,
   "metadata": {},
   "outputs": [
    {
     "ename": "NameError",
     "evalue": "name 'go' is not defined",
     "output_type": "error",
     "traceback": [
      "\u001b[0;31m---------------------------------------------------------------------------\u001b[0m",
      "\u001b[0;31mNameError\u001b[0m                                 Traceback (most recent call last)",
      "\u001b[0;32m<ipython-input-18-7d6017b3327d>\u001b[0m in \u001b[0;36m<module>\u001b[0;34m\u001b[0m\n\u001b[1;32m      5\u001b[0m \u001b[0msite_lon\u001b[0m \u001b[0;34m=\u001b[0m \u001b[0mdf\u001b[0m\u001b[0;34m.\u001b[0m\u001b[0mreclong\u001b[0m\u001b[0;34m\u001b[0m\u001b[0m\n\u001b[1;32m      6\u001b[0m data = [\n\u001b[0;32m----> 7\u001b[0;31m     go.Scattermapbox(\n\u001b[0m\u001b[1;32m      8\u001b[0m         \u001b[0mlat\u001b[0m\u001b[0;34m=\u001b[0m\u001b[0msite_lat\u001b[0m\u001b[0;34m,\u001b[0m\u001b[0;34m\u001b[0m\u001b[0m\n\u001b[1;32m      9\u001b[0m         \u001b[0mlon\u001b[0m\u001b[0;34m=\u001b[0m\u001b[0msite_lon\u001b[0m\u001b[0;34m,\u001b[0m\u001b[0;34m\u001b[0m\u001b[0m\n",
      "\u001b[0;31mNameError\u001b[0m: name 'go' is not defined"
     ]
    }
   ],
   "source": [
    "# Landings distribution on a map (using the properties lat and long)\n",
    "\n",
    "mapbox_access_token = 'dhjrzm2c8j'\n",
    "site_lat = df.reclat\n",
    "site_lon = df.reclong\n",
    "data = [\n",
    "    go.Scattermapbox(\n",
    "        lat=site_lat,\n",
    "        lon=site_lon,\n",
    "        mode='markers',\n",
    "        marker=dict(\n",
    "            size=17,\n",
    "            color='rgb(255, 0, 0)',\n",
    "            opacity=0.7\n",
    "        ),\n",
    "        hoverinfo='text'\n",
    "    ),\n",
    "    ]\n",
    "\n",
    "\n",
    "\n",
    "\n",
    "\n",
    "fig = dict(data=data)\n",
    "\n",
    "py.iplot(fig, filename='jupyter-Meteorite-Landings')"
   ]
  },
  {
   "cell_type": "code",
   "execution_count": null,
   "metadata": {},
   "outputs": [],
   "source": [
    "# Landings distribution on a map (using the properties lat and long)\n",
    "\n",
    "mapbox_access_token = 'dhjrzm2c8j'\n",
    "site_lat = df.reclat\n",
    "site_lon = df.reclong\n",
    "data = [\n",
    "    go.Scattermapbox(\n",
    "        lat=site_lat,\n",
    "        lon=site_lon,\n",
    "        mode='markers',\n",
    "        marker=dict(\n",
    "            size=17,\n",
    "            color='rgb(255, 0, 0)',\n",
    "            opacity=0.7\n",
    "        ),\n",
    "        hoverinfo='text'\n",
    "    ),\n",
    "    ]\n",
    "\n",
    "\n",
    "\n",
    "\n",
    "\n",
    "fig = dict(data=data)\n",
    "\n",
    "py.iplot(fig, filename='jupyter-Meteorite-Landings')"
   ]
  },
  {
   "cell_type": "code",
   "execution_count": 143,
   "metadata": {},
   "outputs": [
    {
     "ename": "NameError",
     "evalue": "name 'Basemap' is not defined",
     "output_type": "error",
     "traceback": [
      "\u001b[0;31m---------------------------------------------------------------------------\u001b[0m",
      "\u001b[0;31mNameError\u001b[0m                                 Traceback (most recent call last)",
      "\u001b[0;32m<ipython-input-143-e36413278f23>\u001b[0m in \u001b[0;36m<module>\u001b[0;34m\u001b[0m\n\u001b[0;32m----> 1\u001b[0;31m \u001b[0mmap\u001b[0m \u001b[0;34m=\u001b[0m \u001b[0mBasemap\u001b[0m\u001b[0;34m(\u001b[0m\u001b[0mprojection\u001b[0m\u001b[0;34m=\u001b[0m\u001b[0;34m'cyl'\u001b[0m\u001b[0;34m)\u001b[0m\u001b[0;34m\u001b[0m\u001b[0m\n\u001b[0m\u001b[1;32m      2\u001b[0m \u001b[0mmap\u001b[0m\u001b[0;34m.\u001b[0m\u001b[0mdrawmapboundary\u001b[0m\u001b[0;34m(\u001b[0m\u001b[0mfill_color\u001b[0m\u001b[0;34m=\u001b[0m\u001b[0;34m'w'\u001b[0m\u001b[0;34m)\u001b[0m\u001b[0;34m\u001b[0m\u001b[0m\n\u001b[1;32m      3\u001b[0m \u001b[0mmap\u001b[0m\u001b[0;34m.\u001b[0m\u001b[0mdrawcoastlines\u001b[0m\u001b[0;34m(\u001b[0m\u001b[0mlinewidth\u001b[0m\u001b[0;34m=\u001b[0m\u001b[0;36m0.5\u001b[0m\u001b[0;34m)\u001b[0m\u001b[0;34m\u001b[0m\u001b[0m\n\u001b[1;32m      4\u001b[0m \u001b[0mmap\u001b[0m\u001b[0;34m.\u001b[0m\u001b[0mdrawmeridians\u001b[0m\u001b[0;34m(\u001b[0m\u001b[0mrange\u001b[0m\u001b[0;34m(\u001b[0m\u001b[0;36m0\u001b[0m\u001b[0;34m,\u001b[0m \u001b[0;36m360\u001b[0m\u001b[0;34m,\u001b[0m \u001b[0;36m20\u001b[0m\u001b[0;34m)\u001b[0m\u001b[0;34m,\u001b[0m\u001b[0mlinewidth\u001b[0m\u001b[0;34m=\u001b[0m\u001b[0;36m0.1\u001b[0m\u001b[0;34m)\u001b[0m\u001b[0;34m\u001b[0m\u001b[0m\n\u001b[1;32m      5\u001b[0m \u001b[0mmap\u001b[0m\u001b[0;34m.\u001b[0m\u001b[0mdrawparallels\u001b[0m\u001b[0;34m(\u001b[0m\u001b[0;34m[\u001b[0m\u001b[0;34m-\u001b[0m\u001b[0;36m66.56083\u001b[0m\u001b[0;34m,\u001b[0m\u001b[0;34m-\u001b[0m\u001b[0;36m23.5\u001b[0m\u001b[0;34m,\u001b[0m\u001b[0;36m0.0\u001b[0m\u001b[0;34m,\u001b[0m\u001b[0;36m23.5\u001b[0m\u001b[0;34m,\u001b[0m\u001b[0;36m66.56083\u001b[0m\u001b[0;34m]\u001b[0m\u001b[0;34m,\u001b[0m \u001b[0mlinewidth\u001b[0m\u001b[0;34m=\u001b[0m\u001b[0;36m0.6\u001b[0m\u001b[0;34m)\u001b[0m \u001b[0;31m#plotting equator and tropics and polar circles\u001b[0m\u001b[0;34m\u001b[0m\u001b[0m\n",
      "\u001b[0;31mNameError\u001b[0m: name 'Basemap' is not defined"
     ]
    }
   ],
   "source": [
    "map = Basemap(projection='cyl')\n",
    "map.drawmapboundary(fill_color='w')\n",
    "map.drawcoastlines(linewidth=0.5)\n",
    "map.drawmeridians(range(0, 360, 20),linewidth=0.1)\n",
    "map.drawparallels([-66.56083,-23.5,0.0,23.5,66.56083], linewidth=0.6) #plotting equator and tropics and polar circles\n",
    "\n",
    "x, y = map(valids.reclong,valids.reclat)\n",
    "\n",
    "map.scatter(x, y, marker='.',alpha=0.25,c='green',edgecolor='None')\n",
    "plt.title('Map of all valid impacts', fontsize=15)"
   ]
  },
  {
   "cell_type": "markdown",
   "metadata": {},
   "source": [
    "## Note\n",
    "Because the library required an API-Key to run, I couldn’t share the plots on the Jupyter Notebook. Screenshots of the Scatter Plots and the Scatter Map Box can be found here: https://github.com/youcefjd/Meteorite-Project-Phase-2/blob/master/Data%20Visualization.pdf"
   ]
  },
  {
   "cell_type": "markdown",
   "metadata": {},
   "source": [
    "# III. Statistical Thinking\n",
    " Often, it is very useful to think \"statistically\". Numbers are the language of the universe, they help us understand things more clearly. Conducting a statistical analysis helped me to understand some \"hidden\" aspects of the dataset.\n",
    "In this section, I tried to perform a coherent statistical analysis. The dataset being very tedious, the results are quite restricted. However, they offer an interesting \"plus-value\"."
   ]
  },
  {
   "cell_type": "code",
   "execution_count": 130,
   "metadata": {},
   "outputs": [
    {
     "data": {
      "text/html": [
       "<div>\n",
       "<style scoped>\n",
       "    .dataframe tbody tr th:only-of-type {\n",
       "        vertical-align: middle;\n",
       "    }\n",
       "\n",
       "    .dataframe tbody tr th {\n",
       "        vertical-align: top;\n",
       "    }\n",
       "\n",
       "    .dataframe thead th {\n",
       "        text-align: right;\n",
       "    }\n",
       "</style>\n",
       "<table border=\"1\" class=\"dataframe\">\n",
       "  <thead>\n",
       "    <tr style=\"text-align: right;\">\n",
       "      <th></th>\n",
       "      <th>id</th>\n",
       "      <th>mass</th>\n",
       "      <th>year</th>\n",
       "      <th>reclat</th>\n",
       "      <th>reclong</th>\n",
       "    </tr>\n",
       "  </thead>\n",
       "  <tbody>\n",
       "    <tr>\n",
       "      <th>count</th>\n",
       "      <td>25483.000000</td>\n",
       "      <td>2.548300e+04</td>\n",
       "      <td>25483.000000</td>\n",
       "      <td>25483.000000</td>\n",
       "      <td>25483.000000</td>\n",
       "    </tr>\n",
       "    <tr>\n",
       "      <th>mean</th>\n",
       "      <td>20831.443315</td>\n",
       "      <td>1.769370e+03</td>\n",
       "      <td>1989.378762</td>\n",
       "      <td>-52.591016</td>\n",
       "      <td>80.269438</td>\n",
       "    </tr>\n",
       "    <tr>\n",
       "      <th>std</th>\n",
       "      <td>14809.077171</td>\n",
       "      <td>3.240141e+04</td>\n",
       "      <td>21.614454</td>\n",
       "      <td>44.197285</td>\n",
       "      <td>82.423629</td>\n",
       "    </tr>\n",
       "    <tr>\n",
       "      <th>min</th>\n",
       "      <td>1.000000</td>\n",
       "      <td>1.000000e-02</td>\n",
       "      <td>860.000000</td>\n",
       "      <td>-87.366670</td>\n",
       "      <td>-165.433330</td>\n",
       "    </tr>\n",
       "    <tr>\n",
       "      <th>25%</th>\n",
       "      <td>9497.500000</td>\n",
       "      <td>5.925000e+00</td>\n",
       "      <td>1985.000000</td>\n",
       "      <td>-84.000000</td>\n",
       "      <td>35.666670</td>\n",
       "    </tr>\n",
       "    <tr>\n",
       "      <th>50%</th>\n",
       "      <td>18741.000000</td>\n",
       "      <td>2.490000e+01</td>\n",
       "      <td>1992.000000</td>\n",
       "      <td>-72.782778</td>\n",
       "      <td>75.279444</td>\n",
       "    </tr>\n",
       "    <tr>\n",
       "      <th>75%</th>\n",
       "      <td>27144.500000</td>\n",
       "      <td>1.480000e+02</td>\n",
       "      <td>2000.000000</td>\n",
       "      <td>-30.883330</td>\n",
       "      <td>159.750000</td>\n",
       "    </tr>\n",
       "    <tr>\n",
       "      <th>max</th>\n",
       "      <td>57455.000000</td>\n",
       "      <td>4.000000e+06</td>\n",
       "      <td>2013.000000</td>\n",
       "      <td>81.166670</td>\n",
       "      <td>175.730280</td>\n",
       "    </tr>\n",
       "  </tbody>\n",
       "</table>\n",
       "</div>"
      ],
      "text/plain": [
       "                 id          mass          year        reclat       reclong\n",
       "count  25483.000000  2.548300e+04  25483.000000  25483.000000  25483.000000\n",
       "mean   20831.443315  1.769370e+03   1989.378762    -52.591016     80.269438\n",
       "std    14809.077171  3.240141e+04     21.614454     44.197285     82.423629\n",
       "min        1.000000  1.000000e-02    860.000000    -87.366670   -165.433330\n",
       "25%     9497.500000  5.925000e+00   1985.000000    -84.000000     35.666670\n",
       "50%    18741.000000  2.490000e+01   1992.000000    -72.782778     75.279444\n",
       "75%    27144.500000  1.480000e+02   2000.000000    -30.883330    159.750000\n",
       "max    57455.000000  4.000000e+06   2013.000000     81.166670    175.730280"
      ]
     },
     "execution_count": 130,
     "metadata": {},
     "output_type": "execute_result"
    }
   ],
   "source": [
    "# The method \"describe\" is always a great start\n",
    "df.describe()"
   ]
  },
  {
   "cell_type": "markdown",
   "metadata": {},
   "source": [
    "The \"mass\" column seems to be interesting. I will focus on analyzing it further. "
   ]
  },
  {
   "cell_type": "code",
   "execution_count": 131,
   "metadata": {},
   "outputs": [
    {
     "data": {
      "text/plain": [
       "count    2.548300e+04\n",
       "mean     1.769370e+03\n",
       "std      3.240141e+04\n",
       "min      1.000000e-02\n",
       "25%      5.925000e+00\n",
       "50%      2.490000e+01\n",
       "75%      1.480000e+02\n",
       "max      4.000000e+06\n",
       "Name: mass, dtype: float64"
      ]
     },
     "execution_count": 131,
     "metadata": {},
     "output_type": "execute_result"
    }
   ],
   "source": [
    "df.mass.describe()"
   ]
  },
  {
   "cell_type": "code",
   "execution_count": 132,
   "metadata": {},
   "outputs": [
    {
     "data": {
      "text/plain": [
       "Text(0.5,1,'Seaborn Box Plot')"
      ]
     },
     "execution_count": 132,
     "metadata": {},
     "output_type": "execute_result"
    },
    {
     "data": {
      "image/png": "[encoded data removed]",
      "text/plain": [
       "<Figure size 432x288 with 1 Axes>"
      ]
     },
     "metadata": {},
     "output_type": "display_data"
    }
   ],
   "source": [
    "sns.boxplot(x ='recclass', y='mass', data = df)\n",
    "plt.xlabel('Meteorite Classes')\n",
    "plt.ylabel('Mass (g)')\n",
    "plt.title('Seaborn Box Plot')"
   ]
  },
  {
   "cell_type": "markdown",
   "metadata": {},
   "source": [
    "The Box Plot doesn't offer much indications. I will try to \"zoom\" on the y-axis, since the mass is on average in between 0 and 100g"
   ]
  },
  {
   "cell_type": "code",
   "execution_count": 133,
   "metadata": {},
   "outputs": [
    {
     "data": {
      "text/plain": [
       "Text(0.5,1,'Seaborn Box Plot')"
      ]
     },
     "execution_count": 133,
     "metadata": {},
     "output_type": "execute_result"
    },
    {
     "data": {
      "image/png": "[encoded data removed]",
      "text/plain": [
       "<Figure size 432x288 with 1 Axes>"
      ]
     },
     "metadata": {},
     "output_type": "display_data"
    }
   ],
   "source": [
    "sns.boxplot(x ='recclass', y='mass', data = df)\n",
    "plt.ylim(0, 100)\n",
    "plt.xlabel('Meteorite Classes')\n",
    "plt.ylabel('Mass (g)')\n",
    "plt.title('Seaborn Box Plot')\n"
   ]
  },
  {
   "cell_type": "markdown",
   "metadata": {},
   "source": [
    "Another interesting statistical figure is the EDF (Empirical Distribution Function). \n",
    "\n",
    "In statistics, an empirical distribution function is the distribution function associated with the empirical measure of a sample. This cumulative distribution function is a step function that jumps up by 1/n at each of the n data points. Its value at any specified value of the measured variable is the fraction of observations of the measured variable that are less than or equal to the specified value. - source Wikipedia\n",
    "\n",
    "Another definition: \n",
    "\n",
    "An empirical cumulative distribution function (also called the empirical distribution function, ECDF, or just EDF) and a cumulative distribution function are basically the same thing: they are both probability models for data. However, while a CDF is a hypothetical model of a distribution, the ECDF models empirical (i.e. observed) data. To put this another way, the ECDF is the probability distribution you would get if you sampled from your sample, instead of the population. Let’s say you have a set of experimental (observed) data x1, x2 …,xn. The EDF will give you the fraction of sample observations less than or equal to a particular value of x.\n",
    "\n",
    "\n"
   ]
  },
  {
   "cell_type": "code",
   "execution_count": 134,
   "metadata": {},
   "outputs": [
    {
     "data": {
      "text/plain": [
       "Text(0.5,1,'EDF')"
      ]
     },
     "execution_count": 134,
     "metadata": {},
     "output_type": "execute_result"
    },
    {
     "data": {
      "image/png": "[encoded data removed]",
      "text/plain": [
       "<Figure size 640x480 with 1 Axes>"
      ]
     },
     "metadata": {},
     "output_type": "display_data"
    }
   ],
   "source": [
    "# Extracting the mass column and plotting it\n",
    "x = np.sort(df.mass)\n",
    "y = np.arange(1, len(x)+1)/len(x)\n",
    "sns.set()\n",
    "figure(num=None, figsize=(8, 6), dpi=80, facecolor='w', edgecolor='k')\n",
    "_ = plt.plot(x, y, marker= '.', linestyle='none')\n",
    "plt.xlim = (0, 1000000)\n",
    "plt.margins(0.2)\n",
    "plt.xlabel('Mass (g)')\n",
    "plt.title('EDF')"
   ]
  },
  {
   "cell_type": "markdown",
   "metadata": {},
   "source": [
    "The graph doesn't tell us a lot about the distribution of the data (the mass). There's another figure that could help us have more information about the distribution, it is called the PDF (Probability Density Function)\n",
    "\n",
    "In probability theory, a probability density function (PDF), or density of a continuous random variable, is a function, whose value at any given sample (or point) in the sample space (the set of possible values taken by the random variable) can be interpreted as providing a relative likelihood that the value of the random variable would equal that sample.[citation needed] In other words, while the absolute likelihood for a continuous random variable to take on any particular value is 0 (since there are an infinite set of possible values to begin with), the value of the PDF at two different samples can be used to infer, in any particular draw of the random variable, how much more likely it is that the random variable would equal one sample compared to the other sample. - source Wikipedia"
   ]
  },
  {
   "cell_type": "code",
   "execution_count": 135,
   "metadata": {},
   "outputs": [
    {
     "data": {
      "text/plain": [
       "Text(0.5,0,'Mass (g)')"
      ]
     },
     "execution_count": 135,
     "metadata": {},
     "output_type": "execute_result"
    },
    {
     "data": {
      "image/png": "[encoded data removed]",
      "text/plain": [
       "<Figure size 640x480 with 1 Axes>"
      ]
     },
     "metadata": {},
     "output_type": "display_data"
    }
   ],
   "source": [
    "mass = df.mass\n",
    "mean = np.mean(mass)\n",
    "std = np.std(mass)\n",
    "length = len(df)\n",
    "p=norm.pdf(mass, mean, std)\n",
    "figure(num=None, figsize=(8, 6), dpi=80, facecolor='w', edgecolor='k')\n",
    "plt.plot(mass, p)\n",
    "plt.margins(0.2)\n",
    "plt.title ('Probability Density Function')\n",
    "plt.xlabel('Mass (g)')"
   ]
  },
  {
   "cell_type": "markdown",
   "metadata": {},
   "source": [
    "The PDF has an interesting shape. Unfortunately, It is very ambiguious. "
   ]
  },
  {
   "cell_type": "markdown",
   "metadata": {},
   "source": [
    "Last thing, we know that the mean of our population is 1769.3703604756115g. But is it the true mean? To make sure that it is the case it is advisable to perform a t-test.\n",
    "\n",
    "## What is a t-score?\n",
    "\n",
    "Simply put, a t-score is the number of standard deviations from the mean a data point is. It helps us to determine the true mean of our population.\n",
    "\n",
    "## Why a t-test and not a z-test?\n",
    "\n",
    "Simply because the standard deviation of our sample is uknown. Though a t-test is best for small samples, it becomes similar to the z-test with large samples, so the results shouldn't differ much.\n",
    "\n",
    "## Performing a t-test \n",
    "\n",
    "### Null Hyothesis \n",
    "\n",
    "Ho: True Population Mean is 1769.3703604756115g \n",
    "\n",
    "H1: True Population Mean is not 1769.3703604756115g\n",
    "\n"
   ]
  },
  {
   "cell_type": "code",
   "execution_count": 138,
   "metadata": {},
   "outputs": [
    {
     "data": {
      "text/plain": [
       "1769.3703604756115"
      ]
     },
     "execution_count": 138,
     "metadata": {},
     "output_type": "execute_result"
    }
   ],
   "source": [
    "np.mean(df.mass)"
   ]
  },
  {
   "cell_type": "code",
   "execution_count": 139,
   "metadata": {},
   "outputs": [
    {
     "name": "stdout",
     "output_type": "stream",
     "text": [
      "t-statistic: 0.0\n",
      "p-value: 1.0\n"
     ]
    }
   ],
   "source": [
    "# Save results of a one sample t-test:\n",
    "t = stats.ttest_1samp(df.mass, 1769.3703604756115)[0]\n",
    "p = stats.ttest_1samp(df.mass, 1769.3703604756115)[1]\n",
    "\n",
    "print('t-statistic:', t)\n",
    "print('p-value:', p)"
   ]
  },
  {
   "cell_type": "markdown",
   "metadata": {},
   "source": [
    "The results tell us unequivocally that the true mean of the population is indeed  1769.3703604756115g"
   ]
  },
  {
   "cell_type": "markdown",
   "metadata": {},
   "source": [
    "## Conclusion\n",
    "\n",
    "The dataset is not normally distributed. After some statistical analysis I haven't learnt a lot about it. "
   ]
  },
  {
   "cell_type": "markdown",
   "metadata": {},
   "source": [
    "# IV. Machine Learning \n",
    "\n",
    "Here comes the fun part: machine learning. The dataset being very tedious, I am not expecting miracles. However, I am certain that using the right model I can predict something interesting. \n",
    "\n",
    "## Note\n",
    "\n",
    "I have tried numerous algorithms on the dataset. My experiments can be found here: https://github.com/youcefjd/Meteorite-Project-Phase-4/blob/master/Machine_Learning%20(1).ipynb\n",
    "\n",
    "I am, here, going to use what I learned from the experiments to directly apply the best model on the dataset."
   ]
  },
  {
   "cell_type": "markdown",
   "metadata": {},
   "source": [
    "### What to predict?\n",
    "\n",
    "Based on some selected features, I will try to predict where the next meteorite landing will occur.\n",
    "\n",
    "### Random Forests Regressor\n",
    "\n",
    "From my experiments, I have determined that RFR is the algorithm that gives the best results on the dataset. "
   ]
  },
  {
   "cell_type": "code",
   "execution_count": 326,
   "metadata": {},
   "outputs": [
    {
     "data": {
      "text/plain": [
       "name           0\n",
       "id             0\n",
       "nametype       0\n",
       "recclass       0\n",
       "mass           0\n",
       "fall           0\n",
       "year           0\n",
       "reclat         0\n",
       "reclong        0\n",
       "GeoLocation    0\n",
       "dtype: int64"
      ]
     },
     "execution_count": 326,
     "metadata": {},
     "output_type": "execute_result"
    }
   ],
   "source": [
    "# Making sure that we have no NaNs\n",
    "df.isnull().sum()"
   ]
  },
  {
   "cell_type": "code",
   "execution_count": 327,
   "metadata": {
    "scrolled": false
   },
   "outputs": [
    {
     "data": {
      "text/html": [
       "<div>\n",
       "<style scoped>\n",
       "    .dataframe tbody tr th:only-of-type {\n",
       "        vertical-align: middle;\n",
       "    }\n",
       "\n",
       "    .dataframe tbody tr th {\n",
       "        vertical-align: top;\n",
       "    }\n",
       "\n",
       "    .dataframe thead th {\n",
       "        text-align: right;\n",
       "    }\n",
       "</style>\n",
       "<table border=\"1\" class=\"dataframe\">\n",
       "  <thead>\n",
       "    <tr style=\"text-align: right;\">\n",
       "      <th></th>\n",
       "      <th>name</th>\n",
       "      <th>id</th>\n",
       "      <th>nametype</th>\n",
       "      <th>recclass</th>\n",
       "      <th>mass</th>\n",
       "      <th>fall</th>\n",
       "      <th>year</th>\n",
       "      <th>reclat</th>\n",
       "      <th>reclong</th>\n",
       "      <th>GeoLocation</th>\n",
       "    </tr>\n",
       "  </thead>\n",
       "  <tbody>\n",
       "    <tr>\n",
       "      <th>0</th>\n",
       "      <td>Aachen</td>\n",
       "      <td>1</td>\n",
       "      <td>Valid</td>\n",
       "      <td>L5</td>\n",
       "      <td>21.0</td>\n",
       "      <td>Fell</td>\n",
       "      <td>1880.0</td>\n",
       "      <td>50.77500</td>\n",
       "      <td>6.08333</td>\n",
       "      <td>(50.775000, 6.083330)</td>\n",
       "    </tr>\n",
       "    <tr>\n",
       "      <th>1</th>\n",
       "      <td>Aarhus</td>\n",
       "      <td>2</td>\n",
       "      <td>Valid</td>\n",
       "      <td>H6</td>\n",
       "      <td>720.0</td>\n",
       "      <td>Fell</td>\n",
       "      <td>1951.0</td>\n",
       "      <td>56.18333</td>\n",
       "      <td>10.23333</td>\n",
       "      <td>(56.183330, 10.233330)</td>\n",
       "    </tr>\n",
       "    <tr>\n",
       "      <th>4</th>\n",
       "      <td>Achiras</td>\n",
       "      <td>370</td>\n",
       "      <td>Valid</td>\n",
       "      <td>L6</td>\n",
       "      <td>780.0</td>\n",
       "      <td>Fell</td>\n",
       "      <td>1902.0</td>\n",
       "      <td>-33.16667</td>\n",
       "      <td>-64.95000</td>\n",
       "      <td>(-33.166670, -64.950000)</td>\n",
       "    </tr>\n",
       "    <tr>\n",
       "      <th>7</th>\n",
       "      <td>Agen</td>\n",
       "      <td>392</td>\n",
       "      <td>Valid</td>\n",
       "      <td>H5</td>\n",
       "      <td>30000.0</td>\n",
       "      <td>Fell</td>\n",
       "      <td>1814.0</td>\n",
       "      <td>44.21667</td>\n",
       "      <td>0.61667</td>\n",
       "      <td>(44.216670, 0.616670)</td>\n",
       "    </tr>\n",
       "    <tr>\n",
       "      <th>8</th>\n",
       "      <td>Aguada</td>\n",
       "      <td>398</td>\n",
       "      <td>Valid</td>\n",
       "      <td>L6</td>\n",
       "      <td>1620.0</td>\n",
       "      <td>Fell</td>\n",
       "      <td>1930.0</td>\n",
       "      <td>-31.60000</td>\n",
       "      <td>-65.23333</td>\n",
       "      <td>(-31.600000, -65.233330)</td>\n",
       "    </tr>\n",
       "  </tbody>\n",
       "</table>\n",
       "</div>"
      ],
      "text/plain": [
       "      name   id nametype recclass     mass  fall    year    reclat   reclong  \\\n",
       "0   Aachen    1    Valid       L5     21.0  Fell  1880.0  50.77500   6.08333   \n",
       "1   Aarhus    2    Valid       H6    720.0  Fell  1951.0  56.18333  10.23333   \n",
       "4  Achiras  370    Valid       L6    780.0  Fell  1902.0 -33.16667 -64.95000   \n",
       "7     Agen  392    Valid       H5  30000.0  Fell  1814.0  44.21667   0.61667   \n",
       "8   Aguada  398    Valid       L6   1620.0  Fell  1930.0 -31.60000 -65.23333   \n",
       "\n",
       "                GeoLocation  \n",
       "0     (50.775000, 6.083330)  \n",
       "1    (56.183330, 10.233330)  \n",
       "4  (-33.166670, -64.950000)  \n",
       "7     (44.216670, 0.616670)  \n",
       "8  (-31.600000, -65.233330)  "
      ]
     },
     "execution_count": 327,
     "metadata": {},
     "output_type": "execute_result"
    }
   ],
   "source": [
    "df.head()"
   ]
  },
  {
   "cell_type": "code",
   "execution_count": 331,
   "metadata": {},
   "outputs": [
    {
     "data": {
      "text/plain": [
       "30327"
      ]
     },
     "execution_count": 331,
     "metadata": {},
     "output_type": "execute_result"
    }
   ],
   "source": [
    "len(df)"
   ]
  },
  {
   "cell_type": "code",
   "execution_count": 339,
   "metadata": {
    "scrolled": true
   },
   "outputs": [
    {
     "name": "stderr",
     "output_type": "stream",
     "text": [
      "/Users/youcefdjeddar/anaconda3/envs/fastai-cpu/lib/python3.6/site-packages/ipykernel_launcher.py:2: SettingWithCopyWarning: \n",
      "A value is trying to be set on a copy of a slice from a DataFrame.\n",
      "Try using .loc[row_indexer,col_indexer] = value instead\n",
      "\n",
      "See the caveats in the documentation: http://pandas.pydata.org/pandas-docs/stable/indexing.html#indexing-view-versus-copy\n",
      "  \n"
     ]
    }
   ],
   "source": [
    "from sklearn.preprocessing import LabelEncoder\n",
    "df['recclass'] = LabelEncoder().fit_transform(df['recclass'])"
   ]
  },
  {
   "cell_type": "code",
   "execution_count": 343,
   "metadata": {},
   "outputs": [],
   "source": [
    "# Selecting the features and the target variable \n",
    "X = df[['recclass', 'mass', 'year']] # Selecting the class of the meteorite, their mass and the year of landing\n",
    "y = df[['reclat', 'reclong']] # The target variable represents the latitude and longitude of the expected landing"
   ]
  },
  {
   "cell_type": "code",
   "execution_count": 341,
   "metadata": {},
   "outputs": [
    {
     "data": {
      "text/html": [
       "<div>\n",
       "<style scoped>\n",
       "    .dataframe tbody tr th:only-of-type {\n",
       "        vertical-align: middle;\n",
       "    }\n",
       "\n",
       "    .dataframe tbody tr th {\n",
       "        vertical-align: top;\n",
       "    }\n",
       "\n",
       "    .dataframe thead th {\n",
       "        text-align: right;\n",
       "    }\n",
       "</style>\n",
       "<table border=\"1\" class=\"dataframe\">\n",
       "  <thead>\n",
       "    <tr style=\"text-align: right;\">\n",
       "      <th></th>\n",
       "      <th>name</th>\n",
       "      <th>id</th>\n",
       "      <th>nametype</th>\n",
       "      <th>recclass</th>\n",
       "      <th>mass</th>\n",
       "      <th>fall</th>\n",
       "      <th>year</th>\n",
       "      <th>reclat</th>\n",
       "      <th>reclong</th>\n",
       "      <th>GeoLocation</th>\n",
       "    </tr>\n",
       "  </thead>\n",
       "  <tbody>\n",
       "    <tr>\n",
       "      <th>0</th>\n",
       "      <td>Aachen</td>\n",
       "      <td>1</td>\n",
       "      <td>Valid</td>\n",
       "      <td>6</td>\n",
       "      <td>21.0</td>\n",
       "      <td>Fell</td>\n",
       "      <td>1880.0</td>\n",
       "      <td>50.77500</td>\n",
       "      <td>6.08333</td>\n",
       "      <td>(50.775000, 6.083330)</td>\n",
       "    </tr>\n",
       "    <tr>\n",
       "      <th>1</th>\n",
       "      <td>Aarhus</td>\n",
       "      <td>2</td>\n",
       "      <td>Valid</td>\n",
       "      <td>4</td>\n",
       "      <td>720.0</td>\n",
       "      <td>Fell</td>\n",
       "      <td>1951.0</td>\n",
       "      <td>56.18333</td>\n",
       "      <td>10.23333</td>\n",
       "      <td>(56.183330, 10.233330)</td>\n",
       "    </tr>\n",
       "    <tr>\n",
       "      <th>4</th>\n",
       "      <td>Achiras</td>\n",
       "      <td>370</td>\n",
       "      <td>Valid</td>\n",
       "      <td>7</td>\n",
       "      <td>780.0</td>\n",
       "      <td>Fell</td>\n",
       "      <td>1902.0</td>\n",
       "      <td>-33.16667</td>\n",
       "      <td>-64.95000</td>\n",
       "      <td>(-33.166670, -64.950000)</td>\n",
       "    </tr>\n",
       "    <tr>\n",
       "      <th>7</th>\n",
       "      <td>Agen</td>\n",
       "      <td>392</td>\n",
       "      <td>Valid</td>\n",
       "      <td>3</td>\n",
       "      <td>30000.0</td>\n",
       "      <td>Fell</td>\n",
       "      <td>1814.0</td>\n",
       "      <td>44.21667</td>\n",
       "      <td>0.61667</td>\n",
       "      <td>(44.216670, 0.616670)</td>\n",
       "    </tr>\n",
       "    <tr>\n",
       "      <th>8</th>\n",
       "      <td>Aguada</td>\n",
       "      <td>398</td>\n",
       "      <td>Valid</td>\n",
       "      <td>7</td>\n",
       "      <td>1620.0</td>\n",
       "      <td>Fell</td>\n",
       "      <td>1930.0</td>\n",
       "      <td>-31.60000</td>\n",
       "      <td>-65.23333</td>\n",
       "      <td>(-31.600000, -65.233330)</td>\n",
       "    </tr>\n",
       "  </tbody>\n",
       "</table>\n",
       "</div>"
      ],
      "text/plain": [
       "      name   id nametype  recclass     mass  fall    year    reclat   reclong  \\\n",
       "0   Aachen    1    Valid         6     21.0  Fell  1880.0  50.77500   6.08333   \n",
       "1   Aarhus    2    Valid         4    720.0  Fell  1951.0  56.18333  10.23333   \n",
       "4  Achiras  370    Valid         7    780.0  Fell  1902.0 -33.16667 -64.95000   \n",
       "7     Agen  392    Valid         3  30000.0  Fell  1814.0  44.21667   0.61667   \n",
       "8   Aguada  398    Valid         7   1620.0  Fell  1930.0 -31.60000 -65.23333   \n",
       "\n",
       "                GeoLocation  \n",
       "0     (50.775000, 6.083330)  \n",
       "1    (56.183330, 10.233330)  \n",
       "4  (-33.166670, -64.950000)  \n",
       "7     (44.216670, 0.616670)  \n",
       "8  (-31.600000, -65.233330)  "
      ]
     },
     "execution_count": 341,
     "metadata": {},
     "output_type": "execute_result"
    }
   ],
   "source": [
    "df.head()"
   ]
  },
  {
   "cell_type": "markdown",
   "metadata": {},
   "source": [
    "As we can see, class names have been replaced by numbers, unique to each class."
   ]
  },
  {
   "cell_type": "code",
   "execution_count": 342,
   "metadata": {},
   "outputs": [
    {
     "name": "stderr",
     "output_type": "stream",
     "text": [
      "/Users/youcefdjeddar/anaconda3/envs/fastai-cpu/lib/python3.6/site-packages/sklearn/ensemble/forest.py:248: FutureWarning: The default value of n_estimators will change from 10 in version 0.20 to 100 in 0.22.\n",
      "  \"10 in version 0.20 to 100 in 0.22.\", FutureWarning)\n"
     ]
    }
   ],
   "source": [
    "X_trainval, X_test, y_trainval, y_test = train_test_split(X, y, random_state = 0) \n",
    "X_train, X_val, y_train, y_val = train_test_split(X_trainval, y_trainval)\n",
    "rfr = RandomForestRegressor().fit(X_train, y_train)"
   ]
  },
  {
   "cell_type": "code",
   "execution_count": 344,
   "metadata": {
    "scrolled": true
   },
   "outputs": [
    {
     "name": "stdout",
     "output_type": "stream",
     "text": [
      "Training set score: 0.92\n",
      "Test set score: 0.52\n",
      "CPU times: user 223 ms, sys: 7.45 ms, total: 230 ms\n",
      "Wall time: 232 ms\n"
     ]
    },
    {
     "data": {
      "text/plain": [
       "RandomForestRegressor(bootstrap=True, criterion='mse', max_depth=None,\n",
       "           max_features='auto', max_leaf_nodes=None,\n",
       "           min_impurity_decrease=0.0, min_impurity_split=None,\n",
       "           min_samples_leaf=1, min_samples_split=2,\n",
       "           min_weight_fraction_leaf=0.0, n_estimators=10, n_jobs=None,\n",
       "           oob_score=False, random_state=None, verbose=0, warm_start=False)"
      ]
     },
     "execution_count": 344,
     "metadata": {},
     "output_type": "execute_result"
    }
   ],
   "source": [
    "print(\"Training set score: {:.2f}\".format(rfr.score(X_train, y_train)))\n",
    "print(\"Test set score: {:.2f}\".format(rfr.score(X_test, y_test)))\n",
    "%time rfr.fit(X_train, y_train)"
   ]
  },
  {
   "cell_type": "markdown",
   "metadata": {},
   "source": [
    "Clear overfitting.\n",
    "Random Forest has different parameters that we can explore to possibly enhance the score on the test set."
   ]
  },
  {
   "cell_type": "markdown",
   "metadata": {},
   "source": [
    "Before I proceed, I will have a look at the recent landings to get some insights. "
   ]
  },
  {
   "cell_type": "code",
   "execution_count": 345,
   "metadata": {
    "scrolled": true
   },
   "outputs": [
    {
     "data": {
      "text/html": [
       "<div>\n",
       "<style scoped>\n",
       "    .dataframe tbody tr th:only-of-type {\n",
       "        vertical-align: middle;\n",
       "    }\n",
       "\n",
       "    .dataframe tbody tr th {\n",
       "        vertical-align: top;\n",
       "    }\n",
       "\n",
       "    .dataframe thead th {\n",
       "        text-align: right;\n",
       "    }\n",
       "</style>\n",
       "<table border=\"1\" class=\"dataframe\">\n",
       "  <thead>\n",
       "    <tr style=\"text-align: right;\">\n",
       "      <th></th>\n",
       "      <th>name</th>\n",
       "      <th>id</th>\n",
       "      <th>nametype</th>\n",
       "      <th>recclass</th>\n",
       "      <th>mass</th>\n",
       "      <th>fall</th>\n",
       "      <th>year</th>\n",
       "      <th>reclat</th>\n",
       "      <th>reclong</th>\n",
       "      <th>GeoLocation</th>\n",
       "    </tr>\n",
       "  </thead>\n",
       "  <tbody>\n",
       "    <tr>\n",
       "      <th>30588</th>\n",
       "      <td>Northwest Africa 7587</td>\n",
       "      <td>56428</td>\n",
       "      <td>Valid</td>\n",
       "      <td>7</td>\n",
       "      <td>1877.00</td>\n",
       "      <td>Found</td>\n",
       "      <td>2012.0</td>\n",
       "      <td>0.00000</td>\n",
       "      <td>0.00000</td>\n",
       "      <td>(0.000000, 0.000000)</td>\n",
       "    </tr>\n",
       "    <tr>\n",
       "      <th>30586</th>\n",
       "      <td>Northwest Africa 7584</td>\n",
       "      <td>56427</td>\n",
       "      <td>Valid</td>\n",
       "      <td>7</td>\n",
       "      <td>195.00</td>\n",
       "      <td>Found</td>\n",
       "      <td>2012.0</td>\n",
       "      <td>0.00000</td>\n",
       "      <td>0.00000</td>\n",
       "      <td>(0.000000, 0.000000)</td>\n",
       "    </tr>\n",
       "    <tr>\n",
       "      <th>30513</th>\n",
       "      <td>Northwest Africa 7495</td>\n",
       "      <td>56213</td>\n",
       "      <td>Valid</td>\n",
       "      <td>6</td>\n",
       "      <td>2144.67</td>\n",
       "      <td>Found</td>\n",
       "      <td>2012.0</td>\n",
       "      <td>0.00000</td>\n",
       "      <td>0.00000</td>\n",
       "      <td>(0.000000, 0.000000)</td>\n",
       "    </tr>\n",
       "    <tr>\n",
       "      <th>30583</th>\n",
       "      <td>Northwest Africa 7578</td>\n",
       "      <td>56425</td>\n",
       "      <td>Valid</td>\n",
       "      <td>9</td>\n",
       "      <td>51.00</td>\n",
       "      <td>Found</td>\n",
       "      <td>2012.0</td>\n",
       "      <td>0.00000</td>\n",
       "      <td>0.00000</td>\n",
       "      <td>(0.000000, 0.000000)</td>\n",
       "    </tr>\n",
       "    <tr>\n",
       "      <th>30585</th>\n",
       "      <td>Northwest Africa 7582</td>\n",
       "      <td>56426</td>\n",
       "      <td>Valid</td>\n",
       "      <td>7</td>\n",
       "      <td>126.00</td>\n",
       "      <td>Found</td>\n",
       "      <td>2012.0</td>\n",
       "      <td>0.00000</td>\n",
       "      <td>0.00000</td>\n",
       "      <td>(0.000000, 0.000000)</td>\n",
       "    </tr>\n",
       "    <tr>\n",
       "      <th>30574</th>\n",
       "      <td>Northwest Africa 7568</td>\n",
       "      <td>56561</td>\n",
       "      <td>Valid</td>\n",
       "      <td>0</td>\n",
       "      <td>12.00</td>\n",
       "      <td>Found</td>\n",
       "      <td>2012.0</td>\n",
       "      <td>0.00000</td>\n",
       "      <td>0.00000</td>\n",
       "      <td>(0.000000, 0.000000)</td>\n",
       "    </tr>\n",
       "    <tr>\n",
       "      <th>30557</th>\n",
       "      <td>Northwest Africa 7548</td>\n",
       "      <td>56407</td>\n",
       "      <td>Valid</td>\n",
       "      <td>5</td>\n",
       "      <td>1300.00</td>\n",
       "      <td>Found</td>\n",
       "      <td>2012.0</td>\n",
       "      <td>0.00000</td>\n",
       "      <td>0.00000</td>\n",
       "      <td>(0.000000, 0.000000)</td>\n",
       "    </tr>\n",
       "    <tr>\n",
       "      <th>86</th>\n",
       "      <td>Battle Mountain</td>\n",
       "      <td>56133</td>\n",
       "      <td>Valid</td>\n",
       "      <td>7</td>\n",
       "      <td>2900.00</td>\n",
       "      <td>Fell</td>\n",
       "      <td>2012.0</td>\n",
       "      <td>40.66813</td>\n",
       "      <td>-117.18913</td>\n",
       "      <td>(40.668130, -117.189130)</td>\n",
       "    </tr>\n",
       "    <tr>\n",
       "      <th>30539</th>\n",
       "      <td>Northwest Africa 7520</td>\n",
       "      <td>56318</td>\n",
       "      <td>Valid</td>\n",
       "      <td>1</td>\n",
       "      <td>1550.00</td>\n",
       "      <td>Found</td>\n",
       "      <td>2012.0</td>\n",
       "      <td>0.00000</td>\n",
       "      <td>0.00000</td>\n",
       "      <td>(0.000000, 0.000000)</td>\n",
       "    </tr>\n",
       "    <tr>\n",
       "      <th>30535</th>\n",
       "      <td>Northwest Africa 7517</td>\n",
       "      <td>56295</td>\n",
       "      <td>Valid</td>\n",
       "      <td>8</td>\n",
       "      <td>374.00</td>\n",
       "      <td>Found</td>\n",
       "      <td>2012.0</td>\n",
       "      <td>0.00000</td>\n",
       "      <td>0.00000</td>\n",
       "      <td>(0.000000, 0.000000)</td>\n",
       "    </tr>\n",
       "    <tr>\n",
       "      <th>30521</th>\n",
       "      <td>Northwest Africa 7504</td>\n",
       "      <td>56273</td>\n",
       "      <td>Valid</td>\n",
       "      <td>7</td>\n",
       "      <td>1680.00</td>\n",
       "      <td>Found</td>\n",
       "      <td>2012.0</td>\n",
       "      <td>0.00000</td>\n",
       "      <td>0.00000</td>\n",
       "      <td>(0.000000, 0.000000)</td>\n",
       "    </tr>\n",
       "    <tr>\n",
       "      <th>30516</th>\n",
       "      <td>Northwest Africa 7498</td>\n",
       "      <td>56283</td>\n",
       "      <td>Valid</td>\n",
       "      <td>5</td>\n",
       "      <td>1101.00</td>\n",
       "      <td>Found</td>\n",
       "      <td>2012.0</td>\n",
       "      <td>0.00000</td>\n",
       "      <td>0.00000</td>\n",
       "      <td>(0.000000, 0.000000)</td>\n",
       "    </tr>\n",
       "    <tr>\n",
       "      <th>30580</th>\n",
       "      <td>Northwest Africa 7575</td>\n",
       "      <td>56424</td>\n",
       "      <td>Valid</td>\n",
       "      <td>9</td>\n",
       "      <td>246.00</td>\n",
       "      <td>Found</td>\n",
       "      <td>2012.0</td>\n",
       "      <td>0.00000</td>\n",
       "      <td>0.00000</td>\n",
       "      <td>(0.000000, 0.000000)</td>\n",
       "    </tr>\n",
       "    <tr>\n",
       "      <th>30771</th>\n",
       "      <td>Northwest Africa 7855</td>\n",
       "      <td>57420</td>\n",
       "      <td>Valid</td>\n",
       "      <td>1</td>\n",
       "      <td>916.00</td>\n",
       "      <td>Found</td>\n",
       "      <td>2013.0</td>\n",
       "      <td>0.00000</td>\n",
       "      <td>0.00000</td>\n",
       "      <td>(0.000000, 0.000000)</td>\n",
       "    </tr>\n",
       "    <tr>\n",
       "      <th>30773</th>\n",
       "      <td>Northwest Africa 7857</td>\n",
       "      <td>57422</td>\n",
       "      <td>Valid</td>\n",
       "      <td>9</td>\n",
       "      <td>246.00</td>\n",
       "      <td>Found</td>\n",
       "      <td>2013.0</td>\n",
       "      <td>0.00000</td>\n",
       "      <td>0.00000</td>\n",
       "      <td>(0.000000, 0.000000)</td>\n",
       "    </tr>\n",
       "    <tr>\n",
       "      <th>30774</th>\n",
       "      <td>Northwest Africa 7858</td>\n",
       "      <td>57423</td>\n",
       "      <td>Valid</td>\n",
       "      <td>1</td>\n",
       "      <td>459.00</td>\n",
       "      <td>Found</td>\n",
       "      <td>2013.0</td>\n",
       "      <td>0.00000</td>\n",
       "      <td>0.00000</td>\n",
       "      <td>(0.000000, 0.000000)</td>\n",
       "    </tr>\n",
       "    <tr>\n",
       "      <th>194</th>\n",
       "      <td>Chelyabinsk</td>\n",
       "      <td>57165</td>\n",
       "      <td>Valid</td>\n",
       "      <td>8</td>\n",
       "      <td>100000.00</td>\n",
       "      <td>Fell</td>\n",
       "      <td>2013.0</td>\n",
       "      <td>54.81667</td>\n",
       "      <td>61.11667</td>\n",
       "      <td>(54.816670, 61.116670)</td>\n",
       "    </tr>\n",
       "    <tr>\n",
       "      <th>30776</th>\n",
       "      <td>Northwest Africa 7861</td>\n",
       "      <td>57425</td>\n",
       "      <td>Valid</td>\n",
       "      <td>6</td>\n",
       "      <td>611.00</td>\n",
       "      <td>Found</td>\n",
       "      <td>2013.0</td>\n",
       "      <td>0.00000</td>\n",
       "      <td>0.00000</td>\n",
       "      <td>(0.000000, 0.000000)</td>\n",
       "    </tr>\n",
       "    <tr>\n",
       "      <th>30778</th>\n",
       "      <td>Northwest Africa 7863</td>\n",
       "      <td>57427</td>\n",
       "      <td>Valid</td>\n",
       "      <td>8</td>\n",
       "      <td>1000.00</td>\n",
       "      <td>Found</td>\n",
       "      <td>2013.0</td>\n",
       "      <td>0.00000</td>\n",
       "      <td>0.00000</td>\n",
       "      <td>(0.000000, 0.000000)</td>\n",
       "    </tr>\n",
       "    <tr>\n",
       "      <th>30772</th>\n",
       "      <td>Northwest Africa 7856</td>\n",
       "      <td>57421</td>\n",
       "      <td>Valid</td>\n",
       "      <td>9</td>\n",
       "      <td>517.00</td>\n",
       "      <td>Found</td>\n",
       "      <td>2013.0</td>\n",
       "      <td>0.00000</td>\n",
       "      <td>0.00000</td>\n",
       "      <td>(0.000000, 0.000000)</td>\n",
       "    </tr>\n",
       "  </tbody>\n",
       "</table>\n",
       "</div>"
      ],
      "text/plain": [
       "                        name     id nametype  recclass       mass   fall  \\\n",
       "30588  Northwest Africa 7587  56428    Valid         7    1877.00  Found   \n",
       "30586  Northwest Africa 7584  56427    Valid         7     195.00  Found   \n",
       "30513  Northwest Africa 7495  56213    Valid         6    2144.67  Found   \n",
       "30583  Northwest Africa 7578  56425    Valid         9      51.00  Found   \n",
       "30585  Northwest Africa 7582  56426    Valid         7     126.00  Found   \n",
       "30574  Northwest Africa 7568  56561    Valid         0      12.00  Found   \n",
       "30557  Northwest Africa 7548  56407    Valid         5    1300.00  Found   \n",
       "86           Battle Mountain  56133    Valid         7    2900.00   Fell   \n",
       "30539  Northwest Africa 7520  56318    Valid         1    1550.00  Found   \n",
       "30535  Northwest Africa 7517  56295    Valid         8     374.00  Found   \n",
       "30521  Northwest Africa 7504  56273    Valid         7    1680.00  Found   \n",
       "30516  Northwest Africa 7498  56283    Valid         5    1101.00  Found   \n",
       "30580  Northwest Africa 7575  56424    Valid         9     246.00  Found   \n",
       "30771  Northwest Africa 7855  57420    Valid         1     916.00  Found   \n",
       "30773  Northwest Africa 7857  57422    Valid         9     246.00  Found   \n",
       "30774  Northwest Africa 7858  57423    Valid         1     459.00  Found   \n",
       "194              Chelyabinsk  57165    Valid         8  100000.00   Fell   \n",
       "30776  Northwest Africa 7861  57425    Valid         6     611.00  Found   \n",
       "30778  Northwest Africa 7863  57427    Valid         8    1000.00  Found   \n",
       "30772  Northwest Africa 7856  57421    Valid         9     517.00  Found   \n",
       "\n",
       "         year    reclat    reclong               GeoLocation  \n",
       "30588  2012.0   0.00000    0.00000      (0.000000, 0.000000)  \n",
       "30586  2012.0   0.00000    0.00000      (0.000000, 0.000000)  \n",
       "30513  2012.0   0.00000    0.00000      (0.000000, 0.000000)  \n",
       "30583  2012.0   0.00000    0.00000      (0.000000, 0.000000)  \n",
       "30585  2012.0   0.00000    0.00000      (0.000000, 0.000000)  \n",
       "30574  2012.0   0.00000    0.00000      (0.000000, 0.000000)  \n",
       "30557  2012.0   0.00000    0.00000      (0.000000, 0.000000)  \n",
       "86     2012.0  40.66813 -117.18913  (40.668130, -117.189130)  \n",
       "30539  2012.0   0.00000    0.00000      (0.000000, 0.000000)  \n",
       "30535  2012.0   0.00000    0.00000      (0.000000, 0.000000)  \n",
       "30521  2012.0   0.00000    0.00000      (0.000000, 0.000000)  \n",
       "30516  2012.0   0.00000    0.00000      (0.000000, 0.000000)  \n",
       "30580  2012.0   0.00000    0.00000      (0.000000, 0.000000)  \n",
       "30771  2013.0   0.00000    0.00000      (0.000000, 0.000000)  \n",
       "30773  2013.0   0.00000    0.00000      (0.000000, 0.000000)  \n",
       "30774  2013.0   0.00000    0.00000      (0.000000, 0.000000)  \n",
       "194    2013.0  54.81667   61.11667    (54.816670, 61.116670)  \n",
       "30776  2013.0   0.00000    0.00000      (0.000000, 0.000000)  \n",
       "30778  2013.0   0.00000    0.00000      (0.000000, 0.000000)  \n",
       "30772  2013.0   0.00000    0.00000      (0.000000, 0.000000)  "
      ]
     },
     "execution_count": 345,
     "metadata": {},
     "output_type": "execute_result"
    }
   ],
   "source": [
    "df.sort_values(by=['year']).tail(20)"
   ]
  },
  {
   "cell_type": "markdown",
   "metadata": {},
   "source": [
    "It looks like the recent landings have not yet been recorded adequatly as their geographic location is missing. Let's see how much data is actually absent from the dataset."
   ]
  },
  {
   "cell_type": "code",
   "execution_count": 346,
   "metadata": {
    "scrolled": true
   },
   "outputs": [
    {
     "data": {
      "text/plain": [
       "reclat     4844\n",
       "reclong    4622\n",
       "dtype: int64"
      ]
     },
     "execution_count": 346,
     "metadata": {},
     "output_type": "execute_result"
    }
   ],
   "source": [
    "y[y==0.000000].count()"
   ]
  },
  {
   "cell_type": "markdown",
   "metadata": {},
   "source": [
    "Quite a lot of missing values. The prediction will undoubtedly get altered. I will remove the missing values to get more accurate predictions. I am expecting the prediction score to drop a little bit. "
   ]
  },
  {
   "cell_type": "code",
   "execution_count": 347,
   "metadata": {},
   "outputs": [],
   "source": [
    "df = df[(df[['reclat','reclong']] != 0).all(axis=1)]"
   ]
  },
  {
   "cell_type": "code",
   "execution_count": 348,
   "metadata": {},
   "outputs": [
    {
     "data": {
      "text/html": [
       "<div>\n",
       "<style scoped>\n",
       "    .dataframe tbody tr th:only-of-type {\n",
       "        vertical-align: middle;\n",
       "    }\n",
       "\n",
       "    .dataframe tbody tr th {\n",
       "        vertical-align: top;\n",
       "    }\n",
       "\n",
       "    .dataframe thead th {\n",
       "        text-align: right;\n",
       "    }\n",
       "</style>\n",
       "<table border=\"1\" class=\"dataframe\">\n",
       "  <thead>\n",
       "    <tr style=\"text-align: right;\">\n",
       "      <th></th>\n",
       "      <th>name</th>\n",
       "      <th>id</th>\n",
       "      <th>nametype</th>\n",
       "      <th>recclass</th>\n",
       "      <th>mass</th>\n",
       "      <th>fall</th>\n",
       "      <th>year</th>\n",
       "      <th>reclat</th>\n",
       "      <th>reclong</th>\n",
       "      <th>GeoLocation</th>\n",
       "    </tr>\n",
       "  </thead>\n",
       "  <tbody>\n",
       "    <tr>\n",
       "      <th>12052</th>\n",
       "      <td>Frontier Mountain 10024</td>\n",
       "      <td>54803</td>\n",
       "      <td>Valid</td>\n",
       "      <td>3</td>\n",
       "      <td>3.9</td>\n",
       "      <td>Found</td>\n",
       "      <td>2011.0</td>\n",
       "      <td>-72.95202</td>\n",
       "      <td>160.50618</td>\n",
       "      <td>(-72.952020, 160.506180)</td>\n",
       "    </tr>\n",
       "    <tr>\n",
       "      <th>12051</th>\n",
       "      <td>Frontier Mountain 10019</td>\n",
       "      <td>54802</td>\n",
       "      <td>Valid</td>\n",
       "      <td>1</td>\n",
       "      <td>4.3</td>\n",
       "      <td>Found</td>\n",
       "      <td>2011.0</td>\n",
       "      <td>-72.95230</td>\n",
       "      <td>160.50380</td>\n",
       "      <td>(-72.952300, 160.503800)</td>\n",
       "    </tr>\n",
       "    <tr>\n",
       "      <th>12053</th>\n",
       "      <td>Frontier Mountain 10027</td>\n",
       "      <td>54804</td>\n",
       "      <td>Valid</td>\n",
       "      <td>3</td>\n",
       "      <td>4.0</td>\n",
       "      <td>Found</td>\n",
       "      <td>2011.0</td>\n",
       "      <td>-72.95202</td>\n",
       "      <td>160.50618</td>\n",
       "      <td>(-72.952020, 160.506180)</td>\n",
       "    </tr>\n",
       "    <tr>\n",
       "      <th>12049</th>\n",
       "      <td>Frontier Mountain 10015</td>\n",
       "      <td>54800</td>\n",
       "      <td>Valid</td>\n",
       "      <td>1</td>\n",
       "      <td>3.5</td>\n",
       "      <td>Found</td>\n",
       "      <td>2011.0</td>\n",
       "      <td>-72.95215</td>\n",
       "      <td>160.50155</td>\n",
       "      <td>(-72.952150, 160.501550)</td>\n",
       "    </tr>\n",
       "    <tr>\n",
       "      <th>37359</th>\n",
       "      <td>Sayh al Uhaymir 541</td>\n",
       "      <td>55556</td>\n",
       "      <td>Valid</td>\n",
       "      <td>4</td>\n",
       "      <td>3298.0</td>\n",
       "      <td>Found</td>\n",
       "      <td>2011.0</td>\n",
       "      <td>20.76578</td>\n",
       "      <td>57.28332</td>\n",
       "      <td>(20.765780, 57.283320)</td>\n",
       "    </tr>\n",
       "    <tr>\n",
       "      <th>37358</th>\n",
       "      <td>Sayh al Uhaymir 540</td>\n",
       "      <td>55555</td>\n",
       "      <td>Valid</td>\n",
       "      <td>7</td>\n",
       "      <td>120.0</td>\n",
       "      <td>Found</td>\n",
       "      <td>2011.0</td>\n",
       "      <td>21.05918</td>\n",
       "      <td>57.27620</td>\n",
       "      <td>(21.059180, 57.276200)</td>\n",
       "    </tr>\n",
       "    <tr>\n",
       "      <th>37357</th>\n",
       "      <td>Sayh al Uhaymir 539</td>\n",
       "      <td>55554</td>\n",
       "      <td>Valid</td>\n",
       "      <td>7</td>\n",
       "      <td>34.0</td>\n",
       "      <td>Found</td>\n",
       "      <td>2011.0</td>\n",
       "      <td>21.05970</td>\n",
       "      <td>57.27632</td>\n",
       "      <td>(21.059700, 57.276320)</td>\n",
       "    </tr>\n",
       "    <tr>\n",
       "      <th>12050</th>\n",
       "      <td>Frontier Mountain 10018</td>\n",
       "      <td>54801</td>\n",
       "      <td>Valid</td>\n",
       "      <td>4</td>\n",
       "      <td>2.6</td>\n",
       "      <td>Found</td>\n",
       "      <td>2011.0</td>\n",
       "      <td>-72.95205</td>\n",
       "      <td>160.48720</td>\n",
       "      <td>(-72.952050, 160.487200)</td>\n",
       "    </tr>\n",
       "    <tr>\n",
       "      <th>37356</th>\n",
       "      <td>Sayh al Uhaymir 538</td>\n",
       "      <td>55553</td>\n",
       "      <td>Valid</td>\n",
       "      <td>7</td>\n",
       "      <td>154.0</td>\n",
       "      <td>Found</td>\n",
       "      <td>2011.0</td>\n",
       "      <td>21.10707</td>\n",
       "      <td>57.04363</td>\n",
       "      <td>(21.107070, 57.043630)</td>\n",
       "    </tr>\n",
       "    <tr>\n",
       "      <th>12047</th>\n",
       "      <td>Frontier Mountain 10002</td>\n",
       "      <td>54799</td>\n",
       "      <td>Valid</td>\n",
       "      <td>4</td>\n",
       "      <td>2.7</td>\n",
       "      <td>Found</td>\n",
       "      <td>2011.0</td>\n",
       "      <td>-72.95290</td>\n",
       "      <td>160.47965</td>\n",
       "      <td>(-72.952900, 160.479650)</td>\n",
       "    </tr>\n",
       "    <tr>\n",
       "      <th>9343</th>\n",
       "      <td>El Médano 116</td>\n",
       "      <td>56662</td>\n",
       "      <td>Valid</td>\n",
       "      <td>4</td>\n",
       "      <td>46.0</td>\n",
       "      <td>Found</td>\n",
       "      <td>2011.0</td>\n",
       "      <td>-24.85000</td>\n",
       "      <td>-70.53333</td>\n",
       "      <td>(-24.850000, -70.533330)</td>\n",
       "    </tr>\n",
       "    <tr>\n",
       "      <th>86</th>\n",
       "      <td>Battle Mountain</td>\n",
       "      <td>56133</td>\n",
       "      <td>Valid</td>\n",
       "      <td>7</td>\n",
       "      <td>2900.0</td>\n",
       "      <td>Fell</td>\n",
       "      <td>2012.0</td>\n",
       "      <td>40.66813</td>\n",
       "      <td>-117.18913</td>\n",
       "      <td>(40.668130, -117.189130)</td>\n",
       "    </tr>\n",
       "    <tr>\n",
       "      <th>3403</th>\n",
       "      <td>Antelope</td>\n",
       "      <td>57455</td>\n",
       "      <td>Valid</td>\n",
       "      <td>1</td>\n",
       "      <td>754.0</td>\n",
       "      <td>Found</td>\n",
       "      <td>2012.0</td>\n",
       "      <td>40.90183</td>\n",
       "      <td>-118.54465</td>\n",
       "      <td>(40.901830, -118.544650)</td>\n",
       "    </tr>\n",
       "    <tr>\n",
       "      <th>37733</th>\n",
       "      <td>Stewart Valley 012</td>\n",
       "      <td>55528</td>\n",
       "      <td>Valid</td>\n",
       "      <td>4</td>\n",
       "      <td>130.0</td>\n",
       "      <td>Found</td>\n",
       "      <td>2012.0</td>\n",
       "      <td>36.23500</td>\n",
       "      <td>-116.18358</td>\n",
       "      <td>(36.235000, -116.183580)</td>\n",
       "    </tr>\n",
       "    <tr>\n",
       "      <th>17252</th>\n",
       "      <td>Johannesburg</td>\n",
       "      <td>55765</td>\n",
       "      <td>Valid</td>\n",
       "      <td>1</td>\n",
       "      <td>63.0</td>\n",
       "      <td>Found</td>\n",
       "      <td>2012.0</td>\n",
       "      <td>35.37788</td>\n",
       "      <td>-117.63728</td>\n",
       "      <td>(35.377880, -117.637280)</td>\n",
       "    </tr>\n",
       "    <tr>\n",
       "      <th>17387</th>\n",
       "      <td>Ksar Ghilane 011</td>\n",
       "      <td>55606</td>\n",
       "      <td>Valid</td>\n",
       "      <td>5</td>\n",
       "      <td>25.6</td>\n",
       "      <td>Found</td>\n",
       "      <td>2012.0</td>\n",
       "      <td>32.89100</td>\n",
       "      <td>9.91300</td>\n",
       "      <td>(32.891000, 9.913000)</td>\n",
       "    </tr>\n",
       "    <tr>\n",
       "      <th>17386</th>\n",
       "      <td>Ksar Ghilane 010</td>\n",
       "      <td>55605</td>\n",
       "      <td>Valid</td>\n",
       "      <td>6</td>\n",
       "      <td>50.1</td>\n",
       "      <td>Found</td>\n",
       "      <td>2012.0</td>\n",
       "      <td>32.80600</td>\n",
       "      <td>9.83300</td>\n",
       "      <td>(32.806000, 9.833000)</td>\n",
       "    </tr>\n",
       "    <tr>\n",
       "      <th>22890</th>\n",
       "      <td>Mandalay Spring</td>\n",
       "      <td>57454</td>\n",
       "      <td>Valid</td>\n",
       "      <td>7</td>\n",
       "      <td>2854.0</td>\n",
       "      <td>Found</td>\n",
       "      <td>2012.0</td>\n",
       "      <td>40.89201</td>\n",
       "      <td>-118.55319</td>\n",
       "      <td>(40.892010, -118.553190)</td>\n",
       "    </tr>\n",
       "    <tr>\n",
       "      <th>17245</th>\n",
       "      <td>Jiddat al Harasis 799</td>\n",
       "      <td>57428</td>\n",
       "      <td>Valid</td>\n",
       "      <td>9</td>\n",
       "      <td>212.0</td>\n",
       "      <td>Found</td>\n",
       "      <td>2012.0</td>\n",
       "      <td>19.77278</td>\n",
       "      <td>56.38982</td>\n",
       "      <td>(19.772780, 56.389820)</td>\n",
       "    </tr>\n",
       "    <tr>\n",
       "      <th>194</th>\n",
       "      <td>Chelyabinsk</td>\n",
       "      <td>57165</td>\n",
       "      <td>Valid</td>\n",
       "      <td>8</td>\n",
       "      <td>100000.0</td>\n",
       "      <td>Fell</td>\n",
       "      <td>2013.0</td>\n",
       "      <td>54.81667</td>\n",
       "      <td>61.11667</td>\n",
       "      <td>(54.816670, 61.116670)</td>\n",
       "    </tr>\n",
       "  </tbody>\n",
       "</table>\n",
       "</div>"
      ],
      "text/plain": [
       "                          name     id nametype  recclass      mass   fall  \\\n",
       "12052  Frontier Mountain 10024  54803    Valid         3       3.9  Found   \n",
       "12051  Frontier Mountain 10019  54802    Valid         1       4.3  Found   \n",
       "12053  Frontier Mountain 10027  54804    Valid         3       4.0  Found   \n",
       "12049  Frontier Mountain 10015  54800    Valid         1       3.5  Found   \n",
       "37359      Sayh al Uhaymir 541  55556    Valid         4    3298.0  Found   \n",
       "37358      Sayh al Uhaymir 540  55555    Valid         7     120.0  Found   \n",
       "37357      Sayh al Uhaymir 539  55554    Valid         7      34.0  Found   \n",
       "12050  Frontier Mountain 10018  54801    Valid         4       2.6  Found   \n",
       "37356      Sayh al Uhaymir 538  55553    Valid         7     154.0  Found   \n",
       "12047  Frontier Mountain 10002  54799    Valid         4       2.7  Found   \n",
       "9343             El Médano 116  56662    Valid         4      46.0  Found   \n",
       "86             Battle Mountain  56133    Valid         7    2900.0   Fell   \n",
       "3403                  Antelope  57455    Valid         1     754.0  Found   \n",
       "37733       Stewart Valley 012  55528    Valid         4     130.0  Found   \n",
       "17252             Johannesburg  55765    Valid         1      63.0  Found   \n",
       "17387         Ksar Ghilane 011  55606    Valid         5      25.6  Found   \n",
       "17386         Ksar Ghilane 010  55605    Valid         6      50.1  Found   \n",
       "22890          Mandalay Spring  57454    Valid         7    2854.0  Found   \n",
       "17245    Jiddat al Harasis 799  57428    Valid         9     212.0  Found   \n",
       "194                Chelyabinsk  57165    Valid         8  100000.0   Fell   \n",
       "\n",
       "         year    reclat    reclong               GeoLocation  \n",
       "12052  2011.0 -72.95202  160.50618  (-72.952020, 160.506180)  \n",
       "12051  2011.0 -72.95230  160.50380  (-72.952300, 160.503800)  \n",
       "12053  2011.0 -72.95202  160.50618  (-72.952020, 160.506180)  \n",
       "12049  2011.0 -72.95215  160.50155  (-72.952150, 160.501550)  \n",
       "37359  2011.0  20.76578   57.28332    (20.765780, 57.283320)  \n",
       "37358  2011.0  21.05918   57.27620    (21.059180, 57.276200)  \n",
       "37357  2011.0  21.05970   57.27632    (21.059700, 57.276320)  \n",
       "12050  2011.0 -72.95205  160.48720  (-72.952050, 160.487200)  \n",
       "37356  2011.0  21.10707   57.04363    (21.107070, 57.043630)  \n",
       "12047  2011.0 -72.95290  160.47965  (-72.952900, 160.479650)  \n",
       "9343   2011.0 -24.85000  -70.53333  (-24.850000, -70.533330)  \n",
       "86     2012.0  40.66813 -117.18913  (40.668130, -117.189130)  \n",
       "3403   2012.0  40.90183 -118.54465  (40.901830, -118.544650)  \n",
       "37733  2012.0  36.23500 -116.18358  (36.235000, -116.183580)  \n",
       "17252  2012.0  35.37788 -117.63728  (35.377880, -117.637280)  \n",
       "17387  2012.0  32.89100    9.91300     (32.891000, 9.913000)  \n",
       "17386  2012.0  32.80600    9.83300     (32.806000, 9.833000)  \n",
       "22890  2012.0  40.89201 -118.55319  (40.892010, -118.553190)  \n",
       "17245  2012.0  19.77278   56.38982    (19.772780, 56.389820)  \n",
       "194    2013.0  54.81667   61.11667    (54.816670, 61.116670)  "
      ]
     },
     "execution_count": 348,
     "metadata": {},
     "output_type": "execute_result"
    }
   ],
   "source": [
    "df.sort_values(by=['year']).tail(20)"
   ]
  },
  {
   "cell_type": "markdown",
   "metadata": {},
   "source": [
    "The dataframe looks better."
   ]
  },
  {
   "cell_type": "code",
   "execution_count": 351,
   "metadata": {},
   "outputs": [
    {
     "data": {
      "text/plain": [
       "25483"
      ]
     },
     "execution_count": 351,
     "metadata": {},
     "output_type": "execute_result"
    }
   ],
   "source": [
    "len(df)"
   ]
  },
  {
   "cell_type": "code",
   "execution_count": 352,
   "metadata": {},
   "outputs": [],
   "source": [
    "from sklearn.preprocessing import LabelEncoder\n",
    "df['recclass'] = LabelEncoder().fit_transform(df['recclass'])"
   ]
  },
  {
   "cell_type": "code",
   "execution_count": 353,
   "metadata": {},
   "outputs": [],
   "source": [
    "df_sorted = df.sort_values(by=['year'])"
   ]
  },
  {
   "cell_type": "code",
   "execution_count": 354,
   "metadata": {},
   "outputs": [],
   "source": [
    "X = df_sorted[['recclass', 'mass', 'year']] # Selecting the class of the meteorite, their mass and the predicted landing year\n",
    "y = df_sorted[['reclat', 'reclong']] # The target variable represents the latitude and longitude of the expected landing"
   ]
  },
  {
   "cell_type": "code",
   "execution_count": 355,
   "metadata": {
    "scrolled": true
   },
   "outputs": [
    {
     "name": "stderr",
     "output_type": "stream",
     "text": [
      "/Users/youcefdjeddar/anaconda3/envs/fastai-cpu/lib/python3.6/site-packages/sklearn/ensemble/forest.py:248: FutureWarning: The default value of n_estimators will change from 10 in version 0.20 to 100 in 0.22.\n",
      "  \"10 in version 0.20 to 100 in 0.22.\", FutureWarning)\n"
     ]
    }
   ],
   "source": [
    "X_train, X_test, y_train, y_test = train_test_split(X_trainval, y_trainval, random_state = 0) \n",
    "rfr = RandomForestRegressor().fit(X_train, y_train)"
   ]
  },
  {
   "cell_type": "code",
   "execution_count": 356,
   "metadata": {
    "scrolled": true
   },
   "outputs": [
    {
     "name": "stdout",
     "output_type": "stream",
     "text": [
      "Training set score: 0.92\n",
      "Test set score: 0.54\n",
      "CPU times: user 235 ms, sys: 9.39 ms, total: 244 ms\n",
      "Wall time: 262 ms\n"
     ]
    },
    {
     "data": {
      "text/plain": [
       "RandomForestRegressor(bootstrap=True, criterion='mse', max_depth=None,\n",
       "           max_features='auto', max_leaf_nodes=None,\n",
       "           min_impurity_decrease=0.0, min_impurity_split=None,\n",
       "           min_samples_leaf=1, min_samples_split=2,\n",
       "           min_weight_fraction_leaf=0.0, n_estimators=10, n_jobs=None,\n",
       "           oob_score=False, random_state=None, verbose=0, warm_start=False)"
      ]
     },
     "execution_count": 356,
     "metadata": {},
     "output_type": "execute_result"
    }
   ],
   "source": [
    "print(\"Training set score: {:.2f}\".format(rfr.score(X_train, y_train)))\n",
    "print(\"Test set score: {:.2f}\".format(rfr.score(X_test, y_test)))\n",
    "%time rfr.fit(X_train, y_train)"
   ]
  },
  {
   "cell_type": "markdown",
   "metadata": {},
   "source": [
    "As expected, the score on both the training and the test sets dropped, but not drastically. Now I am certain that the results of the model will be as precise as possible. "
   ]
  },
  {
   "cell_type": "markdown",
   "metadata": {},
   "source": [
    "Let's do some Hyperparameter Tuning! "
   ]
  },
  {
   "cell_type": "code",
   "execution_count": 357,
   "metadata": {},
   "outputs": [
    {
     "name": "stdout",
     "output_type": "stream",
     "text": [
      "Training set score: 0.75\n",
      "Test set score: 0.31\n",
      "CPU times: user 29.3 ms, sys: 1.04 ms, total: 30.3 ms\n",
      "Wall time: 31.1 ms\n"
     ]
    },
    {
     "data": {
      "text/plain": [
       "RandomForestRegressor(bootstrap=True, criterion='mse', max_depth=None,\n",
       "           max_features='auto', max_leaf_nodes=None,\n",
       "           min_impurity_decrease=0.0, min_impurity_split=None,\n",
       "           min_samples_leaf=1, min_samples_split=2,\n",
       "           min_weight_fraction_leaf=0.0, n_estimators=1, n_jobs=None,\n",
       "           oob_score=False, random_state=None, verbose=0, warm_start=False)"
      ]
     },
     "execution_count": 357,
     "metadata": {},
     "output_type": "execute_result"
    }
   ],
   "source": [
    "rfr = RandomForestRegressor(n_estimators = 1).fit(X_train, y_train)\n",
    "print(\"Training set score: {:.2f}\".format(rfr.score(X_train, y_train)))\n",
    "print(\"Test set score: {:.2f}\".format(rfr.score(X_test, y_test)))\n",
    "%time rfr.fit(X_train, y_train)"
   ]
  },
  {
   "cell_type": "markdown",
   "metadata": {},
   "source": [
    "Random Forest with one single estimator is equivalent to the decision tree algorithm."
   ]
  },
  {
   "cell_type": "markdown",
   "metadata": {},
   "source": [
    "Below are further explorations of the algorithm in order to prevent it from overfitting. I will also attempt to play around with some parameters to find the best combination for the dataset. "
   ]
  },
  {
   "cell_type": "markdown",
   "metadata": {},
   "source": [
    "## Cross Validation"
   ]
  },
  {
   "cell_type": "code",
   "execution_count": 358,
   "metadata": {
    "scrolled": false
   },
   "outputs": [
    {
     "name": "stdout",
     "output_type": "stream",
     "text": [
      "Training set score: 0.76\n",
      "Test set score: 0.59\n",
      "CPU times: user 179 ms, sys: 4.73 ms, total: 184 ms\n",
      "Wall time: 185 ms\n"
     ]
    },
    {
     "data": {
      "text/plain": [
       "RandomForestRegressor(bootstrap=True, criterion='mse', max_depth=None,\n",
       "           max_features=0.5, max_leaf_nodes=None,\n",
       "           min_impurity_decrease=0.0, min_impurity_split=None,\n",
       "           min_samples_leaf=3, min_samples_split=2,\n",
       "           min_weight_fraction_leaf=0.0, n_estimators=20, n_jobs=1,\n",
       "           oob_score=False, random_state=None, verbose=0, warm_start=False)"
      ]
     },
     "execution_count": 358,
     "metadata": {},
     "output_type": "execute_result"
    }
   ],
   "source": [
    "rfr = RandomForestRegressor(n_estimators = 20, min_samples_leaf = 3, max_features = 0.5, n_jobs = 1).fit(X_train, y_train)\n",
    "print(\"Training set score: {:.2f}\".format(rfr.score(X_train, y_train)))\n",
    "print(\"Test set score: {:.2f}\".format(rfr.score(X_test, y_test)))\n",
    "%time rfr.fit(X_train, y_train)"
   ]
  },
  {
   "cell_type": "code",
   "execution_count": 359,
   "metadata": {
    "scrolled": true
   },
   "outputs": [
    {
     "name": "stdout",
     "output_type": "stream",
     "text": [
      "Average cross-validation score: 0.56\n",
      "CPU times: user 915 ms, sys: 7.14 ms, total: 922 ms\n",
      "Wall time: 943 ms\n"
     ]
    },
    {
     "data": {
      "text/plain": [
       "array([0.57427, 0.57045, 0.52171, 0.55276, 0.63545, 0.52026, 0.53467, 0.53274, 0.58184, 0.49622, 0.64455,\n",
       "       0.48991, 0.58874, 0.56137, 0.59643])"
      ]
     },
     "execution_count": 359,
     "metadata": {},
     "output_type": "execute_result"
    }
   ],
   "source": [
    "kfold = KFold(n_splits=15, shuffle=True, random_state=0)\n",
    "scores = cross_val_score(rfr, X_test, y_test, cv =kfold)  \n",
    "print(\"Average cross-validation score: {:.2f}\".format(scores.mean()))\n",
    "%time cross_val_score(rfr, X_test, y_test, cv =kfold)"
   ]
  },
  {
   "cell_type": "code",
   "execution_count": 360,
   "metadata": {
    "scrolled": true
   },
   "outputs": [
    {
     "name": "stdout",
     "output_type": "stream",
     "text": [
      "Average cross-validation score: 0.56\n",
      "CPU times: user 885 ms, sys: 2.8 ms, total: 887 ms\n",
      "Wall time: 891 ms\n"
     ]
    },
    {
     "data": {
      "text/plain": [
       "array([0.54841, 0.49114, 0.54457, 0.51437, 0.53563, 0.54937, 0.58923, 0.62069, 0.54665, 0.52976, 0.55153,\n",
       "       0.58349, 0.57214, 0.62425, 0.53734])"
      ]
     },
     "execution_count": 360,
     "metadata": {},
     "output_type": "execute_result"
    }
   ],
   "source": [
    "kfold = KFold(n_splits=15, shuffle=False, random_state=0)\n",
    "scores = cross_val_score(rfr, X_test, y_test, cv =kfold)  \n",
    "print(\"Average cross-validation score: {:.2f}\".format(scores.mean()))\n",
    "%time cross_val_score(rfr, X_test, y_test, cv =kfold)"
   ]
  },
  {
   "cell_type": "markdown",
   "metadata": {},
   "source": [
    "# -------------------------------------------------------------------------------------"
   ]
  },
  {
   "cell_type": "code",
   "execution_count": 361,
   "metadata": {},
   "outputs": [],
   "source": [
    "def split_vals(a,n): return a[:n].copy(), a[n:].copy()"
   ]
  },
  {
   "cell_type": "code",
   "execution_count": 362,
   "metadata": {},
   "outputs": [
    {
     "data": {
      "text/plain": [
       "((19483, 3), (19483, 2), (6000, 3), (6000, 2))"
      ]
     },
     "execution_count": 362,
     "metadata": {},
     "output_type": "execute_result"
    }
   ],
   "source": [
    "n_test = 6000  \n",
    "n_trainval = len(df_sorted)-n_test\n",
    "raw_trainval, raw_test = split_vals(df_sorted, n_trainval)\n",
    "X_trainval, X_test = split_vals(X, n_trainval)\n",
    "y_trainval, y_test = split_vals(y, n_trainval)\n",
    "\n",
    "X_trainval.shape, y_trainval.shape, X_test.shape, y_test.shape"
   ]
  },
  {
   "cell_type": "code",
   "execution_count": 374,
   "metadata": {},
   "outputs": [
    {
     "data": {
      "text/plain": [
       "((15483, 3), (15483, 2), (4000, 3), (4000, 2))"
      ]
     },
     "execution_count": 374,
     "metadata": {},
     "output_type": "execute_result"
    }
   ],
   "source": [
    "n_valid = 4000  \n",
    "n_train = len(X_trainval) - n_valid\n",
    "raw_train, raw_valid = split_vals(X_trainval, n_train)\n",
    "X_train, X_valid = split_vals(X_trainval, n_train)\n",
    "y_train, y_valid = split_vals(y_trainval, n_train)\n",
    "\n",
    "X_train.shape, y_train.shape, X_valid.shape, y_valid.shape"
   ]
  },
  {
   "cell_type": "code",
   "execution_count": 391,
   "metadata": {},
   "outputs": [
    {
     "data": {
      "text/html": [
       "<div>\n",
       "<style scoped>\n",
       "    .dataframe tbody tr th:only-of-type {\n",
       "        vertical-align: middle;\n",
       "    }\n",
       "\n",
       "    .dataframe tbody tr th {\n",
       "        vertical-align: top;\n",
       "    }\n",
       "\n",
       "    .dataframe thead th {\n",
       "        text-align: right;\n",
       "    }\n",
       "</style>\n",
       "<table border=\"1\" class=\"dataframe\">\n",
       "  <thead>\n",
       "    <tr style=\"text-align: right;\">\n",
       "      <th></th>\n",
       "      <th>recclass</th>\n",
       "      <th>mass</th>\n",
       "      <th>year</th>\n",
       "    </tr>\n",
       "  </thead>\n",
       "  <tbody>\n",
       "    <tr>\n",
       "      <th>703</th>\n",
       "      <td>7</td>\n",
       "      <td>472.0</td>\n",
       "      <td>860.0</td>\n",
       "    </tr>\n",
       "    <tr>\n",
       "      <th>283</th>\n",
       "      <td>9</td>\n",
       "      <td>127000.0</td>\n",
       "      <td>1491.0</td>\n",
       "    </tr>\n",
       "    <tr>\n",
       "      <th>1037</th>\n",
       "      <td>4</td>\n",
       "      <td>40.0</td>\n",
       "      <td>1668.0</td>\n",
       "    </tr>\n",
       "    <tr>\n",
       "      <th>800</th>\n",
       "      <td>6</td>\n",
       "      <td>39.0</td>\n",
       "      <td>1723.0</td>\n",
       "    </tr>\n",
       "    <tr>\n",
       "      <th>721</th>\n",
       "      <td>4</td>\n",
       "      <td>14360.0</td>\n",
       "      <td>1741.0</td>\n",
       "    </tr>\n",
       "  </tbody>\n",
       "</table>\n",
       "</div>"
      ],
      "text/plain": [
       "      recclass      mass    year\n",
       "703          7     472.0   860.0\n",
       "283          9  127000.0  1491.0\n",
       "1037         4      40.0  1668.0\n",
       "800          6      39.0  1723.0\n",
       "721          4   14360.0  1741.0"
      ]
     },
     "execution_count": 391,
     "metadata": {},
     "output_type": "execute_result"
    }
   ],
   "source": [
    "X_train.head()"
   ]
  },
  {
   "cell_type": "code",
   "execution_count": 392,
   "metadata": {},
   "outputs": [
    {
     "data": {
      "text/html": [
       "<div>\n",
       "<style scoped>\n",
       "    .dataframe tbody tr th:only-of-type {\n",
       "        vertical-align: middle;\n",
       "    }\n",
       "\n",
       "    .dataframe tbody tr th {\n",
       "        vertical-align: top;\n",
       "    }\n",
       "\n",
       "    .dataframe thead th {\n",
       "        text-align: right;\n",
       "    }\n",
       "</style>\n",
       "<table border=\"1\" class=\"dataframe\">\n",
       "  <thead>\n",
       "    <tr style=\"text-align: right;\">\n",
       "      <th></th>\n",
       "      <th>recclass</th>\n",
       "      <th>mass</th>\n",
       "      <th>year</th>\n",
       "    </tr>\n",
       "  </thead>\n",
       "  <tbody>\n",
       "    <tr>\n",
       "      <th>34581</th>\n",
       "      <td>8</td>\n",
       "      <td>81.3</td>\n",
       "      <td>1997.0</td>\n",
       "    </tr>\n",
       "    <tr>\n",
       "      <th>33959</th>\n",
       "      <td>8</td>\n",
       "      <td>40.8</td>\n",
       "      <td>1997.0</td>\n",
       "    </tr>\n",
       "    <tr>\n",
       "      <th>34580</th>\n",
       "      <td>4</td>\n",
       "      <td>15.2</td>\n",
       "      <td>1997.0</td>\n",
       "    </tr>\n",
       "    <tr>\n",
       "      <th>34579</th>\n",
       "      <td>8</td>\n",
       "      <td>4.1</td>\n",
       "      <td>1997.0</td>\n",
       "    </tr>\n",
       "    <tr>\n",
       "      <th>34578</th>\n",
       "      <td>8</td>\n",
       "      <td>1.8</td>\n",
       "      <td>1997.0</td>\n",
       "    </tr>\n",
       "  </tbody>\n",
       "</table>\n",
       "</div>"
      ],
      "text/plain": [
       "       recclass  mass    year\n",
       "34581         8  81.3  1997.0\n",
       "33959         8  40.8  1997.0\n",
       "34580         4  15.2  1997.0\n",
       "34579         8   4.1  1997.0\n",
       "34578         8   1.8  1997.0"
      ]
     },
     "execution_count": 392,
     "metadata": {},
     "output_type": "execute_result"
    }
   ],
   "source": [
    "X_train.tail()"
   ]
  },
  {
   "cell_type": "code",
   "execution_count": 393,
   "metadata": {},
   "outputs": [
    {
     "data": {
      "text/html": [
       "<div>\n",
       "<style scoped>\n",
       "    .dataframe tbody tr th:only-of-type {\n",
       "        vertical-align: middle;\n",
       "    }\n",
       "\n",
       "    .dataframe tbody tr th {\n",
       "        vertical-align: top;\n",
       "    }\n",
       "\n",
       "    .dataframe thead th {\n",
       "        text-align: right;\n",
       "    }\n",
       "</style>\n",
       "<table border=\"1\" class=\"dataframe\">\n",
       "  <thead>\n",
       "    <tr style=\"text-align: right;\">\n",
       "      <th></th>\n",
       "      <th>recclass</th>\n",
       "      <th>mass</th>\n",
       "      <th>year</th>\n",
       "    </tr>\n",
       "  </thead>\n",
       "  <tbody>\n",
       "    <tr>\n",
       "      <th>34583</th>\n",
       "      <td>6</td>\n",
       "      <td>39.30</td>\n",
       "      <td>1997.0</td>\n",
       "    </tr>\n",
       "    <tr>\n",
       "      <th>16211</th>\n",
       "      <td>7</td>\n",
       "      <td>1579.00</td>\n",
       "      <td>1997.0</td>\n",
       "    </tr>\n",
       "    <tr>\n",
       "      <th>16212</th>\n",
       "      <td>6</td>\n",
       "      <td>1440.00</td>\n",
       "      <td>1997.0</td>\n",
       "    </tr>\n",
       "    <tr>\n",
       "      <th>16213</th>\n",
       "      <td>7</td>\n",
       "      <td>268.08</td>\n",
       "      <td>1997.0</td>\n",
       "    </tr>\n",
       "    <tr>\n",
       "      <th>34192</th>\n",
       "      <td>8</td>\n",
       "      <td>16.80</td>\n",
       "      <td>1997.0</td>\n",
       "    </tr>\n",
       "  </tbody>\n",
       "</table>\n",
       "</div>"
      ],
      "text/plain": [
       "       recclass     mass    year\n",
       "34583         6    39.30  1997.0\n",
       "16211         7  1579.00  1997.0\n",
       "16212         6  1440.00  1997.0\n",
       "16213         7   268.08  1997.0\n",
       "34192         8    16.80  1997.0"
      ]
     },
     "execution_count": 393,
     "metadata": {},
     "output_type": "execute_result"
    }
   ],
   "source": [
    "X_valid.head()"
   ]
  },
  {
   "cell_type": "code",
   "execution_count": 394,
   "metadata": {},
   "outputs": [
    {
     "data": {
      "text/html": [
       "<div>\n",
       "<style scoped>\n",
       "    .dataframe tbody tr th:only-of-type {\n",
       "        vertical-align: middle;\n",
       "    }\n",
       "\n",
       "    .dataframe tbody tr th {\n",
       "        vertical-align: top;\n",
       "    }\n",
       "\n",
       "    .dataframe thead th {\n",
       "        text-align: right;\n",
       "    }\n",
       "</style>\n",
       "<table border=\"1\" class=\"dataframe\">\n",
       "  <thead>\n",
       "    <tr style=\"text-align: right;\">\n",
       "      <th></th>\n",
       "      <th>recclass</th>\n",
       "      <th>mass</th>\n",
       "      <th>year</th>\n",
       "    </tr>\n",
       "  </thead>\n",
       "  <tbody>\n",
       "    <tr>\n",
       "      <th>23371</th>\n",
       "      <td>7</td>\n",
       "      <td>27.83</td>\n",
       "      <td>2000.0</td>\n",
       "    </tr>\n",
       "    <tr>\n",
       "      <th>23346</th>\n",
       "      <td>6</td>\n",
       "      <td>16.99</td>\n",
       "      <td>2000.0</td>\n",
       "    </tr>\n",
       "    <tr>\n",
       "      <th>23345</th>\n",
       "      <td>9</td>\n",
       "      <td>16.24</td>\n",
       "      <td>2000.0</td>\n",
       "    </tr>\n",
       "    <tr>\n",
       "      <th>23344</th>\n",
       "      <td>9</td>\n",
       "      <td>38.48</td>\n",
       "      <td>2000.0</td>\n",
       "    </tr>\n",
       "    <tr>\n",
       "      <th>23343</th>\n",
       "      <td>4</td>\n",
       "      <td>34.24</td>\n",
       "      <td>2000.0</td>\n",
       "    </tr>\n",
       "  </tbody>\n",
       "</table>\n",
       "</div>"
      ],
      "text/plain": [
       "       recclass   mass    year\n",
       "23371         7  27.83  2000.0\n",
       "23346         6  16.99  2000.0\n",
       "23345         9  16.24  2000.0\n",
       "23344         9  38.48  2000.0\n",
       "23343         4  34.24  2000.0"
      ]
     },
     "execution_count": 394,
     "metadata": {},
     "output_type": "execute_result"
    }
   ],
   "source": [
    "X_valid.tail()"
   ]
  },
  {
   "cell_type": "code",
   "execution_count": 395,
   "metadata": {
    "scrolled": true
   },
   "outputs": [
    {
     "data": {
      "text/html": [
       "<div>\n",
       "<style scoped>\n",
       "    .dataframe tbody tr th:only-of-type {\n",
       "        vertical-align: middle;\n",
       "    }\n",
       "\n",
       "    .dataframe tbody tr th {\n",
       "        vertical-align: top;\n",
       "    }\n",
       "\n",
       "    .dataframe thead th {\n",
       "        text-align: right;\n",
       "    }\n",
       "</style>\n",
       "<table border=\"1\" class=\"dataframe\">\n",
       "  <thead>\n",
       "    <tr style=\"text-align: right;\">\n",
       "      <th></th>\n",
       "      <th>recclass</th>\n",
       "      <th>mass</th>\n",
       "      <th>year</th>\n",
       "    </tr>\n",
       "  </thead>\n",
       "  <tbody>\n",
       "    <tr>\n",
       "      <th>23342</th>\n",
       "      <td>9</td>\n",
       "      <td>20.58</td>\n",
       "      <td>2000.0</td>\n",
       "    </tr>\n",
       "    <tr>\n",
       "      <th>23341</th>\n",
       "      <td>7</td>\n",
       "      <td>20.42</td>\n",
       "      <td>2000.0</td>\n",
       "    </tr>\n",
       "    <tr>\n",
       "      <th>23340</th>\n",
       "      <td>9</td>\n",
       "      <td>55.93</td>\n",
       "      <td>2000.0</td>\n",
       "    </tr>\n",
       "    <tr>\n",
       "      <th>23339</th>\n",
       "      <td>9</td>\n",
       "      <td>34.76</td>\n",
       "      <td>2000.0</td>\n",
       "    </tr>\n",
       "    <tr>\n",
       "      <th>23338</th>\n",
       "      <td>6</td>\n",
       "      <td>27.43</td>\n",
       "      <td>2000.0</td>\n",
       "    </tr>\n",
       "  </tbody>\n",
       "</table>\n",
       "</div>"
      ],
      "text/plain": [
       "       recclass   mass    year\n",
       "23342         9  20.58  2000.0\n",
       "23341         7  20.42  2000.0\n",
       "23340         9  55.93  2000.0\n",
       "23339         9  34.76  2000.0\n",
       "23338         6  27.43  2000.0"
      ]
     },
     "execution_count": 395,
     "metadata": {},
     "output_type": "execute_result"
    }
   ],
   "source": [
    "X_test.head()"
   ]
  },
  {
   "cell_type": "code",
   "execution_count": 396,
   "metadata": {
    "scrolled": true
   },
   "outputs": [
    {
     "data": {
      "text/html": [
       "<div>\n",
       "<style scoped>\n",
       "    .dataframe tbody tr th:only-of-type {\n",
       "        vertical-align: middle;\n",
       "    }\n",
       "\n",
       "    .dataframe tbody tr th {\n",
       "        vertical-align: top;\n",
       "    }\n",
       "\n",
       "    .dataframe thead th {\n",
       "        text-align: right;\n",
       "    }\n",
       "</style>\n",
       "<table border=\"1\" class=\"dataframe\">\n",
       "  <thead>\n",
       "    <tr style=\"text-align: right;\">\n",
       "      <th></th>\n",
       "      <th>recclass</th>\n",
       "      <th>mass</th>\n",
       "      <th>year</th>\n",
       "    </tr>\n",
       "  </thead>\n",
       "  <tbody>\n",
       "    <tr>\n",
       "      <th>17387</th>\n",
       "      <td>5</td>\n",
       "      <td>25.6</td>\n",
       "      <td>2012.0</td>\n",
       "    </tr>\n",
       "    <tr>\n",
       "      <th>17386</th>\n",
       "      <td>6</td>\n",
       "      <td>50.1</td>\n",
       "      <td>2012.0</td>\n",
       "    </tr>\n",
       "    <tr>\n",
       "      <th>22890</th>\n",
       "      <td>7</td>\n",
       "      <td>2854.0</td>\n",
       "      <td>2012.0</td>\n",
       "    </tr>\n",
       "    <tr>\n",
       "      <th>17245</th>\n",
       "      <td>9</td>\n",
       "      <td>212.0</td>\n",
       "      <td>2012.0</td>\n",
       "    </tr>\n",
       "    <tr>\n",
       "      <th>194</th>\n",
       "      <td>8</td>\n",
       "      <td>100000.0</td>\n",
       "      <td>2013.0</td>\n",
       "    </tr>\n",
       "  </tbody>\n",
       "</table>\n",
       "</div>"
      ],
      "text/plain": [
       "       recclass      mass    year\n",
       "17387         5      25.6  2012.0\n",
       "17386         6      50.1  2012.0\n",
       "22890         7    2854.0  2012.0\n",
       "17245         9     212.0  2012.0\n",
       "194           8  100000.0  2013.0"
      ]
     },
     "execution_count": 396,
     "metadata": {},
     "output_type": "execute_result"
    }
   ],
   "source": [
    "X_test.tail()"
   ]
  },
  {
   "cell_type": "code",
   "execution_count": 399,
   "metadata": {
    "scrolled": true
   },
   "outputs": [
    {
     "data": {
      "text/html": [
       "<div>\n",
       "<style scoped>\n",
       "    .dataframe tbody tr th:only-of-type {\n",
       "        vertical-align: middle;\n",
       "    }\n",
       "\n",
       "    .dataframe tbody tr th {\n",
       "        vertical-align: top;\n",
       "    }\n",
       "\n",
       "    .dataframe thead th {\n",
       "        text-align: right;\n",
       "    }\n",
       "</style>\n",
       "<table border=\"1\" class=\"dataframe\">\n",
       "  <thead>\n",
       "    <tr style=\"text-align: right;\">\n",
       "      <th></th>\n",
       "      <th>reclat</th>\n",
       "      <th>reclong</th>\n",
       "    </tr>\n",
       "  </thead>\n",
       "  <tbody>\n",
       "    <tr>\n",
       "      <th>23342</th>\n",
       "      <td>-79.68333</td>\n",
       "      <td>155.75</td>\n",
       "    </tr>\n",
       "    <tr>\n",
       "      <th>23341</th>\n",
       "      <td>-79.68333</td>\n",
       "      <td>155.75</td>\n",
       "    </tr>\n",
       "    <tr>\n",
       "      <th>23340</th>\n",
       "      <td>-79.68333</td>\n",
       "      <td>155.75</td>\n",
       "    </tr>\n",
       "    <tr>\n",
       "      <th>23339</th>\n",
       "      <td>-79.68333</td>\n",
       "      <td>155.75</td>\n",
       "    </tr>\n",
       "    <tr>\n",
       "      <th>23338</th>\n",
       "      <td>-79.68333</td>\n",
       "      <td>155.75</td>\n",
       "    </tr>\n",
       "  </tbody>\n",
       "</table>\n",
       "</div>"
      ],
      "text/plain": [
       "         reclat  reclong\n",
       "23342 -79.68333   155.75\n",
       "23341 -79.68333   155.75\n",
       "23340 -79.68333   155.75\n",
       "23339 -79.68333   155.75\n",
       "23338 -79.68333   155.75"
      ]
     },
     "execution_count": 399,
     "metadata": {},
     "output_type": "execute_result"
    }
   ],
   "source": [
    "y_test.head()"
   ]
  },
  {
   "cell_type": "code",
   "execution_count": 401,
   "metadata": {},
   "outputs": [
    {
     "name": "stdout",
     "output_type": "stream",
     "text": [
      "Training set score: 0.67\n",
      "Test set score: -0.71\n",
      "CPU times: user 1.58 s, sys: 15.7 ms, total: 1.59 s\n",
      "Wall time: 774 ms\n"
     ]
    },
    {
     "data": {
      "text/plain": [
       "RandomForestRegressor(bootstrap=True, criterion='mse', max_depth=10,\n",
       "           max_features='auto', max_leaf_nodes=None,\n",
       "           min_impurity_decrease=0.0, min_impurity_split=None,\n",
       "           min_samples_leaf=10, min_samples_split=2,\n",
       "           min_weight_fraction_leaf=0.0, n_estimators=100, n_jobs=-1,\n",
       "           oob_score=True, random_state=None, verbose=0, warm_start=False)"
      ]
     },
     "execution_count": 401,
     "metadata": {},
     "output_type": "execute_result"
    }
   ],
   "source": [
    "rfr = RandomForestRegressor(n_estimators = 100, min_samples_leaf = 10, max_depth = 10, n_jobs = -1, oob_score = True).fit(X_train, y_train)\n",
    "print(\"Training set score: {:.2f}\".format(rfr.score(X_train, y_train)))\n",
    "print(\"Test set score: {:.2f}\".format(rfr.score(X_test, y_test)))\n",
    "%time rfr.fit(X_train, y_train)"
   ]
  },
  {
   "cell_type": "markdown",
   "metadata": {},
   "source": [
    "## Grid Search "
   ]
  },
  {
   "cell_type": "code",
   "execution_count": 382,
   "metadata": {
    "scrolled": true
   },
   "outputs": [
    {
     "name": "stdout",
     "output_type": "stream",
     "text": [
      "Size of training set: 15483    size of validation set: 4000     size of test set: 6000\n",
      "\n",
      "Best score on validation set: 0.24\n",
      "Best parameters:  {'n_estimators': 10, 'min_samples_leaf': 50, 'max_depth': 10}\n",
      "Test set score with best parameters: -0.15\n",
      "CPU times: user 33 µs, sys: 9 µs, total: 42 µs\n",
      "Wall time: 52 µs\n"
     ]
    }
   ],
   "source": [
    "print(\"Size of training set: {}    size of validation set: {}     size of test set:\"\n",
    "      \" {}\\n\".format(X_train.shape[0], X_valid.shape[0], X_test.shape[0]))\n",
    "best_score = 0\n",
    "for n_estimators in [1, 10, 20,  50, 100]:\n",
    "    for min_samples_leaf in [1, 3, 10, 20, 50, 100]:\n",
    "        for max_depth in [1, 2, 3, 4, 5, 10, 15]:\n",
    "                rf = RandomForestRegressor(n_estimators = n_estimators,min_samples_leaf = min_samples_leaf,\n",
    "                                      max_depth = max_depth)\n",
    "                rf.fit(X_train, y_train)\n",
    "                score = rf.score(X_valid, y_valid)\n",
    "                if score > best_score:\n",
    "                    best_score = score\n",
    "                    best_parameters = {'n_estimators': n_estimators, 'min_samples_leaf': min_samples_leaf,\n",
    "                              'max_depth': max_depth}\n",
    "                    rf = RandomForestRegressor(**best_parameters)\n",
    "                    rf.fit(X_trainval, y_trainval)\n",
    "                    test_score = rf.score(X_test, y_test)\n",
    "print(\"Best score on validation set: {:.2f}\".format(best_score)) \n",
    "print(\"Best parameters: \", best_parameters)\n",
    "%time print(\"Test set score with best parameters: {:.2f}\".format(test_score))"
   ]
  },
  {
   "cell_type": "markdown",
   "metadata": {},
   "source": [
    "# --------------------------------------------------------------------------------"
   ]
  },
  {
   "cell_type": "markdown",
   "metadata": {},
   "source": [
    "The function selects the best values of the three parameters. "
   ]
  },
  {
   "cell_type": "code",
   "execution_count": 44,
   "metadata": {
    "scrolled": true
   },
   "outputs": [
    {
     "name": "stdout",
     "output_type": "stream",
     "text": [
      "Training set score: 0.63\n",
      "Test set score: 0.57\n",
      "CPU times: user 1.55 s, sys: 14.3 ms, total: 1.57 s\n",
      "Wall time: 654 ms\n"
     ]
    },
    {
     "data": {
      "text/plain": [
       "RandomForestRegressor(bootstrap=True, criterion='mse', max_depth=10,\n",
       "           max_features='auto', max_leaf_nodes=None,\n",
       "           min_impurity_decrease=0.0, min_impurity_split=None,\n",
       "           min_samples_leaf=10, min_samples_split=2,\n",
       "           min_weight_fraction_leaf=0.0, n_estimators=100, n_jobs=-1,\n",
       "           oob_score=True, random_state=None, verbose=0, warm_start=False)"
      ]
     },
     "execution_count": 44,
     "metadata": {},
     "output_type": "execute_result"
    }
   ],
   "source": [
    "rfr = RandomForestRegressor(n_estimators = 100, min_samples_leaf = 10, max_depth = 10, n_jobs = -1, oob_score = True).fit(X_train, y_train)\n",
    "print(\"Training set score: {:.2f}\".format(rfr.score(X_train, y_train)))\n",
    "print(\"Test set score: {:.2f}\".format(rfr.score(X_test, y_test)))\n",
    "%time rfr.fit(X_train, y_train)"
   ]
  },
  {
   "cell_type": "markdown",
   "metadata": {},
   "source": [
    "## Understanding Grid Search  \n",
    "The reason why I chose to incorporate the validation set into the function is simple: \n",
    "\n",
    "I used the test data to adjust the parameters, I can no longer use it to assess how good the model is. This is the same reason we traditionally need to split the data into training and test sets in the first place; we need an independent dataset to evaluate, one that was not used to create the model.\n",
    "\n",
    "## Understanding the selected parameters\n",
    "\n",
    "n_estimators = number of trees in the foreset\n",
    "\n",
    "max_depth = max number of levels in each decision tree\n",
    "\n",
    "min_samples_leaf = min number of data points allowed in a leaf node\n"
   ]
  },
  {
   "cell_type": "markdown",
   "metadata": {},
   "source": [
    "## Feature Importance \n",
    "Having only three features (mass, class and year), predicting the dependent variable was not easy but a score of 58% on the test-set was honorable. Below I will try to determine which feature impacted significantly the results."
   ]
  },
  {
   "cell_type": "code",
   "execution_count": 45,
   "metadata": {},
   "outputs": [],
   "source": [
    "# Calling the function with the model and the independent variables as parameters \n",
    "fi = rf_feat_importance(rfr, X)"
   ]
  },
  {
   "cell_type": "code",
   "execution_count": 46,
   "metadata": {},
   "outputs": [
    {
     "data": {
      "image/png": "[encoded data removed]",
      "text/plain": [
       "<Figure size 720x432 with 1 Axes>"
      ]
     },
     "metadata": {},
     "output_type": "display_data"
    }
   ],
   "source": [
    "# Ploting the function\n",
    "fi.plot('cols', 'imp', figsize=(10,6), legend=False);"
   ]
  },
  {
   "cell_type": "code",
   "execution_count": 47,
   "metadata": {},
   "outputs": [],
   "source": [
    "def plot_fi(fi): return fi.plot('cols', 'imp', 'barh', figsize=(10,5), legend=False)"
   ]
  },
  {
   "cell_type": "code",
   "execution_count": 48,
   "metadata": {
    "scrolled": true
   },
   "outputs": [
    {
     "data": {
      "image/png": "[encoded data removed]",
      "text/plain": [
       "<Figure size 720x360 with 1 Axes>"
      ]
     },
     "metadata": {},
     "output_type": "display_data"
    }
   ],
   "source": [
    "plot_fi(fi);"
   ]
  },
  {
   "cell_type": "markdown",
   "metadata": {},
   "source": [
    "The 'year' variable was by far the most important one to predict the next meteorite landings. It's not a good sign as it indicates how the model depends on one single variable. The correlation is extremely high. Unfortunately, in this dataset, it is impossible to circumvent it. I would have needed more features (more dependent variables) to diminish this correlation."
   ]
  },
  {
   "cell_type": "markdown",
   "metadata": {},
   "source": [
    "## Application of the model\n",
    "#### Replacing the missing values of the dataset by the predictions of the model\n",
    "\n",
    "The initial dataframe (df) had about 16% of missing information in the GeoLoc column. The model that I just built could be capable (at around 60% accuracy) of filling the void by replacing the '0.00000' by the prediction of the dependent variable."
   ]
  },
  {
   "cell_type": "markdown",
   "metadata": {},
   "source": [
    "Let's start by taking a look at the original dataframe (with the missing values)"
   ]
  },
  {
   "cell_type": "code",
   "execution_count": 80,
   "metadata": {
    "scrolled": true
   },
   "outputs": [
    {
     "data": {
      "text/html": [
       "<div>\n",
       "<style scoped>\n",
       "    .dataframe tbody tr th:only-of-type {\n",
       "        vertical-align: middle;\n",
       "    }\n",
       "\n",
       "    .dataframe tbody tr th {\n",
       "        vertical-align: top;\n",
       "    }\n",
       "\n",
       "    .dataframe thead th {\n",
       "        text-align: right;\n",
       "    }\n",
       "</style>\n",
       "<table border=\"1\" class=\"dataframe\">\n",
       "  <thead>\n",
       "    <tr style=\"text-align: right;\">\n",
       "      <th></th>\n",
       "      <th>name</th>\n",
       "      <th>id</th>\n",
       "      <th>nametype</th>\n",
       "      <th>recclass</th>\n",
       "      <th>mass</th>\n",
       "      <th>fall</th>\n",
       "      <th>year</th>\n",
       "      <th>reclat</th>\n",
       "      <th>reclong</th>\n",
       "      <th>GeoLocation</th>\n",
       "    </tr>\n",
       "  </thead>\n",
       "  <tbody>\n",
       "    <tr>\n",
       "      <th>30774</th>\n",
       "      <td>Northwest Africa 7858</td>\n",
       "      <td>57423</td>\n",
       "      <td>Valid</td>\n",
       "      <td>H4</td>\n",
       "      <td>459.0</td>\n",
       "      <td>Found</td>\n",
       "      <td>2013.0</td>\n",
       "      <td>0.00000</td>\n",
       "      <td>0.00000</td>\n",
       "      <td>(0.000000, 0.000000)</td>\n",
       "    </tr>\n",
       "    <tr>\n",
       "      <th>194</th>\n",
       "      <td>Chelyabinsk</td>\n",
       "      <td>57165</td>\n",
       "      <td>Valid</td>\n",
       "      <td>LL5</td>\n",
       "      <td>100000.0</td>\n",
       "      <td>Fell</td>\n",
       "      <td>2013.0</td>\n",
       "      <td>54.81667</td>\n",
       "      <td>61.11667</td>\n",
       "      <td>(54.816670, 61.116670)</td>\n",
       "    </tr>\n",
       "    <tr>\n",
       "      <th>30776</th>\n",
       "      <td>Northwest Africa 7861</td>\n",
       "      <td>57425</td>\n",
       "      <td>Valid</td>\n",
       "      <td>L5</td>\n",
       "      <td>611.0</td>\n",
       "      <td>Found</td>\n",
       "      <td>2013.0</td>\n",
       "      <td>0.00000</td>\n",
       "      <td>0.00000</td>\n",
       "      <td>(0.000000, 0.000000)</td>\n",
       "    </tr>\n",
       "    <tr>\n",
       "      <th>30778</th>\n",
       "      <td>Northwest Africa 7863</td>\n",
       "      <td>57427</td>\n",
       "      <td>Valid</td>\n",
       "      <td>LL5</td>\n",
       "      <td>1000.0</td>\n",
       "      <td>Found</td>\n",
       "      <td>2013.0</td>\n",
       "      <td>0.00000</td>\n",
       "      <td>0.00000</td>\n",
       "      <td>(0.000000, 0.000000)</td>\n",
       "    </tr>\n",
       "    <tr>\n",
       "      <th>30772</th>\n",
       "      <td>Northwest Africa 7856</td>\n",
       "      <td>57421</td>\n",
       "      <td>Valid</td>\n",
       "      <td>LL6</td>\n",
       "      <td>517.0</td>\n",
       "      <td>Found</td>\n",
       "      <td>2013.0</td>\n",
       "      <td>0.00000</td>\n",
       "      <td>0.00000</td>\n",
       "      <td>(0.000000, 0.000000)</td>\n",
       "    </tr>\n",
       "  </tbody>\n",
       "</table>\n",
       "</div>"
      ],
      "text/plain": [
       "                        name     id nametype recclass      mass   fall  \\\n",
       "30774  Northwest Africa 7858  57423    Valid       H4     459.0  Found   \n",
       "194              Chelyabinsk  57165    Valid      LL5  100000.0   Fell   \n",
       "30776  Northwest Africa 7861  57425    Valid       L5     611.0  Found   \n",
       "30778  Northwest Africa 7863  57427    Valid      LL5    1000.0  Found   \n",
       "30772  Northwest Africa 7856  57421    Valid      LL6     517.0  Found   \n",
       "\n",
       "         year    reclat   reclong             GeoLocation  \n",
       "30774  2013.0   0.00000   0.00000    (0.000000, 0.000000)  \n",
       "194    2013.0  54.81667  61.11667  (54.816670, 61.116670)  \n",
       "30776  2013.0   0.00000   0.00000    (0.000000, 0.000000)  \n",
       "30778  2013.0   0.00000   0.00000    (0.000000, 0.000000)  \n",
       "30772  2013.0   0.00000   0.00000    (0.000000, 0.000000)  "
      ]
     },
     "execution_count": 80,
     "metadata": {},
     "output_type": "execute_result"
    }
   ],
   "source": [
    "df.sort_values(by=['year']).tail(5)"
   ]
  },
  {
   "cell_type": "markdown",
   "metadata": {},
   "source": [
    "Now I will remove the missing geo-loc values and assign the result to a different dataframe, df1. Just like I did previously."
   ]
  },
  {
   "cell_type": "code",
   "execution_count": 81,
   "metadata": {},
   "outputs": [],
   "source": [
    "df1 = df[(df[['reclat','reclong']] != 0).all(axis=1)]"
   ]
  },
  {
   "cell_type": "code",
   "execution_count": 82,
   "metadata": {
    "scrolled": true
   },
   "outputs": [
    {
     "data": {
      "text/html": [
       "<div>\n",
       "<style scoped>\n",
       "    .dataframe tbody tr th:only-of-type {\n",
       "        vertical-align: middle;\n",
       "    }\n",
       "\n",
       "    .dataframe tbody tr th {\n",
       "        vertical-align: top;\n",
       "    }\n",
       "\n",
       "    .dataframe thead th {\n",
       "        text-align: right;\n",
       "    }\n",
       "</style>\n",
       "<table border=\"1\" class=\"dataframe\">\n",
       "  <thead>\n",
       "    <tr style=\"text-align: right;\">\n",
       "      <th></th>\n",
       "      <th>name</th>\n",
       "      <th>id</th>\n",
       "      <th>nametype</th>\n",
       "      <th>recclass</th>\n",
       "      <th>mass</th>\n",
       "      <th>fall</th>\n",
       "      <th>year</th>\n",
       "      <th>reclat</th>\n",
       "      <th>reclong</th>\n",
       "      <th>GeoLocation</th>\n",
       "    </tr>\n",
       "  </thead>\n",
       "  <tbody>\n",
       "    <tr>\n",
       "      <th>17387</th>\n",
       "      <td>Ksar Ghilane 011</td>\n",
       "      <td>55606</td>\n",
       "      <td>Valid</td>\n",
       "      <td>L4</td>\n",
       "      <td>25.6</td>\n",
       "      <td>Found</td>\n",
       "      <td>2012.0</td>\n",
       "      <td>32.89100</td>\n",
       "      <td>9.91300</td>\n",
       "      <td>(32.891000, 9.913000)</td>\n",
       "    </tr>\n",
       "    <tr>\n",
       "      <th>17386</th>\n",
       "      <td>Ksar Ghilane 010</td>\n",
       "      <td>55605</td>\n",
       "      <td>Valid</td>\n",
       "      <td>L5</td>\n",
       "      <td>50.1</td>\n",
       "      <td>Found</td>\n",
       "      <td>2012.0</td>\n",
       "      <td>32.80600</td>\n",
       "      <td>9.83300</td>\n",
       "      <td>(32.806000, 9.833000)</td>\n",
       "    </tr>\n",
       "    <tr>\n",
       "      <th>22890</th>\n",
       "      <td>Mandalay Spring</td>\n",
       "      <td>57454</td>\n",
       "      <td>Valid</td>\n",
       "      <td>L6</td>\n",
       "      <td>2854.0</td>\n",
       "      <td>Found</td>\n",
       "      <td>2012.0</td>\n",
       "      <td>40.89201</td>\n",
       "      <td>-118.55319</td>\n",
       "      <td>(40.892010, -118.553190)</td>\n",
       "    </tr>\n",
       "    <tr>\n",
       "      <th>17245</th>\n",
       "      <td>Jiddat al Harasis 799</td>\n",
       "      <td>57428</td>\n",
       "      <td>Valid</td>\n",
       "      <td>LL6</td>\n",
       "      <td>212.0</td>\n",
       "      <td>Found</td>\n",
       "      <td>2012.0</td>\n",
       "      <td>19.77278</td>\n",
       "      <td>56.38982</td>\n",
       "      <td>(19.772780, 56.389820)</td>\n",
       "    </tr>\n",
       "    <tr>\n",
       "      <th>194</th>\n",
       "      <td>Chelyabinsk</td>\n",
       "      <td>57165</td>\n",
       "      <td>Valid</td>\n",
       "      <td>LL5</td>\n",
       "      <td>100000.0</td>\n",
       "      <td>Fell</td>\n",
       "      <td>2013.0</td>\n",
       "      <td>54.81667</td>\n",
       "      <td>61.11667</td>\n",
       "      <td>(54.816670, 61.116670)</td>\n",
       "    </tr>\n",
       "  </tbody>\n",
       "</table>\n",
       "</div>"
      ],
      "text/plain": [
       "                        name     id nametype recclass      mass   fall  \\\n",
       "17387       Ksar Ghilane 011  55606    Valid       L4      25.6  Found   \n",
       "17386       Ksar Ghilane 010  55605    Valid       L5      50.1  Found   \n",
       "22890        Mandalay Spring  57454    Valid       L6    2854.0  Found   \n",
       "17245  Jiddat al Harasis 799  57428    Valid      LL6     212.0  Found   \n",
       "194              Chelyabinsk  57165    Valid      LL5  100000.0   Fell   \n",
       "\n",
       "         year    reclat    reclong               GeoLocation  \n",
       "17387  2012.0  32.89100    9.91300     (32.891000, 9.913000)  \n",
       "17386  2012.0  32.80600    9.83300     (32.806000, 9.833000)  \n",
       "22890  2012.0  40.89201 -118.55319  (40.892010, -118.553190)  \n",
       "17245  2012.0  19.77278   56.38982    (19.772780, 56.389820)  \n",
       "194    2013.0  54.81667   61.11667    (54.816670, 61.116670)  "
      ]
     },
     "execution_count": 82,
     "metadata": {},
     "output_type": "execute_result"
    }
   ],
   "source": [
    "df1.sort_values(by=['year']).tail(5)"
   ]
  },
  {
   "cell_type": "markdown",
   "metadata": {},
   "source": [
    "For the next step I will assign only the missing GeoLocation information to a new dataframe, df2, where the model can apply its results to replace the '0.0' values by actual predictions."
   ]
  },
  {
   "cell_type": "code",
   "execution_count": 71,
   "metadata": {},
   "outputs": [],
   "source": [
    "df2 = df[(df[['reclat','reclong']] == 0).all(axis=1)]"
   ]
  },
  {
   "cell_type": "code",
   "execution_count": 129,
   "metadata": {},
   "outputs": [
    {
     "data": {
      "text/html": [
       "<div>\n",
       "<style scoped>\n",
       "    .dataframe tbody tr th:only-of-type {\n",
       "        vertical-align: middle;\n",
       "    }\n",
       "\n",
       "    .dataframe tbody tr th {\n",
       "        vertical-align: top;\n",
       "    }\n",
       "\n",
       "    .dataframe thead th {\n",
       "        text-align: right;\n",
       "    }\n",
       "</style>\n",
       "<table border=\"1\" class=\"dataframe\">\n",
       "  <thead>\n",
       "    <tr style=\"text-align: right;\">\n",
       "      <th></th>\n",
       "      <th>name</th>\n",
       "      <th>id</th>\n",
       "      <th>nametype</th>\n",
       "      <th>recclass</th>\n",
       "      <th>mass</th>\n",
       "      <th>fall</th>\n",
       "      <th>year</th>\n",
       "      <th>reclat</th>\n",
       "      <th>reclong</th>\n",
       "      <th>GeoLocation</th>\n",
       "    </tr>\n",
       "  </thead>\n",
       "  <tbody>\n",
       "    <tr>\n",
       "      <th>596</th>\n",
       "      <td>Mason Gully</td>\n",
       "      <td>53653</td>\n",
       "      <td>Valid</td>\n",
       "      <td>3</td>\n",
       "      <td>24.54</td>\n",
       "      <td>Fell</td>\n",
       "      <td>2010.0</td>\n",
       "      <td>0.0</td>\n",
       "      <td>0.0</td>\n",
       "      <td>(0.000000, 0.000000)</td>\n",
       "    </tr>\n",
       "    <tr>\n",
       "      <th>1649</th>\n",
       "      <td>Allan Hills 09005</td>\n",
       "      <td>55797</td>\n",
       "      <td>Valid</td>\n",
       "      <td>6</td>\n",
       "      <td>122.30</td>\n",
       "      <td>Found</td>\n",
       "      <td>2009.0</td>\n",
       "      <td>0.0</td>\n",
       "      <td>0.0</td>\n",
       "      <td>(0.000000, 0.000000)</td>\n",
       "    </tr>\n",
       "    <tr>\n",
       "      <th>1650</th>\n",
       "      <td>Allan Hills 09006</td>\n",
       "      <td>55798</td>\n",
       "      <td>Valid</td>\n",
       "      <td>3</td>\n",
       "      <td>104.30</td>\n",
       "      <td>Found</td>\n",
       "      <td>2009.0</td>\n",
       "      <td>0.0</td>\n",
       "      <td>0.0</td>\n",
       "      <td>(0.000000, 0.000000)</td>\n",
       "    </tr>\n",
       "    <tr>\n",
       "      <th>1651</th>\n",
       "      <td>Allan Hills 09008</td>\n",
       "      <td>55799</td>\n",
       "      <td>Valid</td>\n",
       "      <td>3</td>\n",
       "      <td>31.30</td>\n",
       "      <td>Found</td>\n",
       "      <td>2009.0</td>\n",
       "      <td>0.0</td>\n",
       "      <td>0.0</td>\n",
       "      <td>(0.000000, 0.000000)</td>\n",
       "    </tr>\n",
       "    <tr>\n",
       "      <th>1652</th>\n",
       "      <td>Allan Hills 09009</td>\n",
       "      <td>55800</td>\n",
       "      <td>Valid</td>\n",
       "      <td>7</td>\n",
       "      <td>24.80</td>\n",
       "      <td>Found</td>\n",
       "      <td>2009.0</td>\n",
       "      <td>0.0</td>\n",
       "      <td>0.0</td>\n",
       "      <td>(0.000000, 0.000000)</td>\n",
       "    </tr>\n",
       "    <tr>\n",
       "      <th>1654</th>\n",
       "      <td>Allan Hills 09011</td>\n",
       "      <td>55802</td>\n",
       "      <td>Valid</td>\n",
       "      <td>9</td>\n",
       "      <td>14.20</td>\n",
       "      <td>Found</td>\n",
       "      <td>2009.0</td>\n",
       "      <td>0.0</td>\n",
       "      <td>0.0</td>\n",
       "      <td>(0.000000, 0.000000)</td>\n",
       "    </tr>\n",
       "    <tr>\n",
       "      <th>1655</th>\n",
       "      <td>Allan Hills 09012</td>\n",
       "      <td>55794</td>\n",
       "      <td>Valid</td>\n",
       "      <td>7</td>\n",
       "      <td>18.10</td>\n",
       "      <td>Found</td>\n",
       "      <td>2009.0</td>\n",
       "      <td>0.0</td>\n",
       "      <td>0.0</td>\n",
       "      <td>(0.000000, 0.000000)</td>\n",
       "    </tr>\n",
       "    <tr>\n",
       "      <th>1656</th>\n",
       "      <td>Allan Hills 09013</td>\n",
       "      <td>55795</td>\n",
       "      <td>Valid</td>\n",
       "      <td>7</td>\n",
       "      <td>25.50</td>\n",
       "      <td>Found</td>\n",
       "      <td>2009.0</td>\n",
       "      <td>0.0</td>\n",
       "      <td>0.0</td>\n",
       "      <td>(0.000000, 0.000000)</td>\n",
       "    </tr>\n",
       "    <tr>\n",
       "      <th>1657</th>\n",
       "      <td>Allan Hills 09014</td>\n",
       "      <td>55796</td>\n",
       "      <td>Valid</td>\n",
       "      <td>6</td>\n",
       "      <td>30.20</td>\n",
       "      <td>Found</td>\n",
       "      <td>2009.0</td>\n",
       "      <td>0.0</td>\n",
       "      <td>0.0</td>\n",
       "      <td>(0.000000, 0.000000)</td>\n",
       "    </tr>\n",
       "    <tr>\n",
       "      <th>1658</th>\n",
       "      <td>Allan Hills 10910</td>\n",
       "      <td>56771</td>\n",
       "      <td>Valid</td>\n",
       "      <td>6</td>\n",
       "      <td>444.10</td>\n",
       "      <td>Found</td>\n",
       "      <td>2010.0</td>\n",
       "      <td>0.0</td>\n",
       "      <td>0.0</td>\n",
       "      <td>(0.000000, 0.000000)</td>\n",
       "    </tr>\n",
       "  </tbody>\n",
       "</table>\n",
       "</div>"
      ],
      "text/plain": [
       "                   name     id nametype  recclass    mass   fall    year  \\\n",
       "596         Mason Gully  53653    Valid         3   24.54   Fell  2010.0   \n",
       "1649  Allan Hills 09005  55797    Valid         6  122.30  Found  2009.0   \n",
       "1650  Allan Hills 09006  55798    Valid         3  104.30  Found  2009.0   \n",
       "1651  Allan Hills 09008  55799    Valid         3   31.30  Found  2009.0   \n",
       "1652  Allan Hills 09009  55800    Valid         7   24.80  Found  2009.0   \n",
       "1654  Allan Hills 09011  55802    Valid         9   14.20  Found  2009.0   \n",
       "1655  Allan Hills 09012  55794    Valid         7   18.10  Found  2009.0   \n",
       "1656  Allan Hills 09013  55795    Valid         7   25.50  Found  2009.0   \n",
       "1657  Allan Hills 09014  55796    Valid         6   30.20  Found  2009.0   \n",
       "1658  Allan Hills 10910  56771    Valid         6  444.10  Found  2010.0   \n",
       "\n",
       "      reclat  reclong           GeoLocation  \n",
       "596      0.0      0.0  (0.000000, 0.000000)  \n",
       "1649     0.0      0.0  (0.000000, 0.000000)  \n",
       "1650     0.0      0.0  (0.000000, 0.000000)  \n",
       "1651     0.0      0.0  (0.000000, 0.000000)  \n",
       "1652     0.0      0.0  (0.000000, 0.000000)  \n",
       "1654     0.0      0.0  (0.000000, 0.000000)  \n",
       "1655     0.0      0.0  (0.000000, 0.000000)  \n",
       "1656     0.0      0.0  (0.000000, 0.000000)  \n",
       "1657     0.0      0.0  (0.000000, 0.000000)  \n",
       "1658     0.0      0.0  (0.000000, 0.000000)  "
      ]
     },
     "execution_count": 129,
     "metadata": {},
     "output_type": "execute_result"
    }
   ],
   "source": [
    "df2.head(10)"
   ]
  },
  {
   "cell_type": "code",
   "execution_count": 73,
   "metadata": {},
   "outputs": [
    {
     "name": "stderr",
     "output_type": "stream",
     "text": [
      "/Users/youcefdjeddar/anaconda3/envs/fastai-cpu/lib/python3.6/site-packages/ipykernel_launcher.py:2: SettingWithCopyWarning: \n",
      "A value is trying to be set on a copy of a slice from a DataFrame.\n",
      "Try using .loc[row_indexer,col_indexer] = value instead\n",
      "\n",
      "See the caveats in the documentation: http://pandas.pydata.org/pandas-docs/stable/indexing.html#indexing-view-versus-copy\n",
      "  \n"
     ]
    }
   ],
   "source": [
    "from sklearn.preprocessing import LabelEncoder\n",
    "df2['recclass'] = LabelEncoder().fit_transform(df2['recclass'])"
   ]
  },
  {
   "cell_type": "code",
   "execution_count": 74,
   "metadata": {},
   "outputs": [],
   "source": [
    "X1 = df2[['recclass', 'mass', 'year']]\n",
    "y1 = df2[['reclat', 'reclong']]"
   ]
  },
  {
   "cell_type": "code",
   "execution_count": 77,
   "metadata": {},
   "outputs": [],
   "source": [
    "pred = rfr.predict(X1)"
   ]
  },
  {
   "cell_type": "code",
   "execution_count": 78,
   "metadata": {},
   "outputs": [],
   "source": [
    "pred = pd.DataFrame(pred)"
   ]
  },
  {
   "cell_type": "code",
   "execution_count": 83,
   "metadata": {},
   "outputs": [],
   "source": [
    "pred.columns = ['pred_reclat', 'pred_reclong']"
   ]
  },
  {
   "cell_type": "code",
   "execution_count": 90,
   "metadata": {},
   "outputs": [
    {
     "data": {
      "text/html": [
       "<div>\n",
       "<style scoped>\n",
       "    .dataframe tbody tr th:only-of-type {\n",
       "        vertical-align: middle;\n",
       "    }\n",
       "\n",
       "    .dataframe tbody tr th {\n",
       "        vertical-align: top;\n",
       "    }\n",
       "\n",
       "    .dataframe thead th {\n",
       "        text-align: right;\n",
       "    }\n",
       "</style>\n",
       "<table border=\"1\" class=\"dataframe\">\n",
       "  <thead>\n",
       "    <tr style=\"text-align: right;\">\n",
       "      <th></th>\n",
       "      <th>pred_reclat</th>\n",
       "      <th>pred_reclong</th>\n",
       "    </tr>\n",
       "  </thead>\n",
       "  <tbody>\n",
       "    <tr>\n",
       "      <th>0</th>\n",
       "      <td>-8.117109</td>\n",
       "      <td>-14.011831</td>\n",
       "    </tr>\n",
       "    <tr>\n",
       "      <th>1</th>\n",
       "      <td>0.528062</td>\n",
       "      <td>50.045825</td>\n",
       "    </tr>\n",
       "    <tr>\n",
       "      <th>2</th>\n",
       "      <td>9.555360</td>\n",
       "      <td>35.527345</td>\n",
       "    </tr>\n",
       "    <tr>\n",
       "      <th>3</th>\n",
       "      <td>6.296440</td>\n",
       "      <td>4.668854</td>\n",
       "    </tr>\n",
       "    <tr>\n",
       "      <th>4</th>\n",
       "      <td>6.926769</td>\n",
       "      <td>38.339467</td>\n",
       "    </tr>\n",
       "    <tr>\n",
       "      <th>5</th>\n",
       "      <td>-12.172205</td>\n",
       "      <td>63.426861</td>\n",
       "    </tr>\n",
       "    <tr>\n",
       "      <th>6</th>\n",
       "      <td>4.503927</td>\n",
       "      <td>39.549358</td>\n",
       "    </tr>\n",
       "    <tr>\n",
       "      <th>7</th>\n",
       "      <td>6.926769</td>\n",
       "      <td>38.339467</td>\n",
       "    </tr>\n",
       "    <tr>\n",
       "      <th>8</th>\n",
       "      <td>-3.233342</td>\n",
       "      <td>53.683535</td>\n",
       "    </tr>\n",
       "    <tr>\n",
       "      <th>9</th>\n",
       "      <td>6.261402</td>\n",
       "      <td>34.711103</td>\n",
       "    </tr>\n",
       "  </tbody>\n",
       "</table>\n",
       "</div>"
      ],
      "text/plain": [
       "   pred_reclat  pred_reclong\n",
       "0    -8.117109    -14.011831\n",
       "1     0.528062     50.045825\n",
       "2     9.555360     35.527345\n",
       "3     6.296440      4.668854\n",
       "4     6.926769     38.339467\n",
       "5   -12.172205     63.426861\n",
       "6     4.503927     39.549358\n",
       "7     6.926769     38.339467\n",
       "8    -3.233342     53.683535\n",
       "9     6.261402     34.711103"
      ]
     },
     "execution_count": 90,
     "metadata": {},
     "output_type": "execute_result"
    }
   ],
   "source": [
    "pred.head(10)"
   ]
  },
  {
   "cell_type": "markdown",
   "metadata": {},
   "source": [
    "The predictions are now displayed in the above dataframe. For example, the meteorite \"Mason Gully\" would normally land in the Atlantic Ocean (-8.117109, -14.011831). Unfortunately, this prediction is not accurate as the meteorite has been observed in West Australia. I tried the same procedure with multiple meteorites and the accuracy rate was below 56%. Which is a disappointment. "
   ]
  },
  {
   "cell_type": "markdown",
   "metadata": {},
   "source": [
    "I will now add another feature to the model, the column \"fall\" that indicates whether a meteorite was observed or discovered. I hope to increase the prediction score."
   ]
  },
  {
   "cell_type": "code",
   "execution_count": 107,
   "metadata": {},
   "outputs": [],
   "source": [
    "from sklearn.preprocessing import LabelEncoder\n",
    "df1['fall'] = LabelEncoder().fit_transform(df1['fall'])\n",
    "df1['recclass'] = LabelEncoder().fit_transform(df1['recclass'])"
   ]
  },
  {
   "cell_type": "code",
   "execution_count": 108,
   "metadata": {},
   "outputs": [],
   "source": [
    "X2 = df1[['recclass', 'mass', 'year', 'fall']]\n",
    "y2 = df1[['reclat', 'reclong']]"
   ]
  },
  {
   "cell_type": "code",
   "execution_count": 109,
   "metadata": {},
   "outputs": [],
   "source": [
    "X2_train, X2_valid, y2_train, y2_valid = train_test_split(X2, y2, random_state = 21)"
   ]
  },
  {
   "cell_type": "code",
   "execution_count": 120,
   "metadata": {},
   "outputs": [],
   "source": [
    "rfr1 = RandomForestRegressor(n_estimators = 100, min_samples_leaf = 10, max_depth = 10, n_jobs = -1, oob_score = True).fit(X2_train, y2_train)"
   ]
  },
  {
   "cell_type": "code",
   "execution_count": 121,
   "metadata": {},
   "outputs": [
    {
     "data": {
      "text/plain": [
       "0.5733488821928867"
      ]
     },
     "execution_count": 121,
     "metadata": {},
     "output_type": "execute_result"
    }
   ],
   "source": [
    "rfr1.score(X2_valid, y2_valid)"
   ]
  },
  {
   "cell_type": "code",
   "execution_count": 122,
   "metadata": {},
   "outputs": [],
   "source": [
    "rfr1 = rfr1.predict(X2)"
   ]
  },
  {
   "cell_type": "code",
   "execution_count": 123,
   "metadata": {},
   "outputs": [],
   "source": [
    "rfr1 = pd.DataFrame(rfr1)"
   ]
  },
  {
   "cell_type": "code",
   "execution_count": 125,
   "metadata": {},
   "outputs": [
    {
     "data": {
      "text/html": [
       "<div>\n",
       "<style scoped>\n",
       "    .dataframe tbody tr th:only-of-type {\n",
       "        vertical-align: middle;\n",
       "    }\n",
       "\n",
       "    .dataframe tbody tr th {\n",
       "        vertical-align: top;\n",
       "    }\n",
       "\n",
       "    .dataframe thead th {\n",
       "        text-align: right;\n",
       "    }\n",
       "</style>\n",
       "<table border=\"1\" class=\"dataframe\">\n",
       "  <thead>\n",
       "    <tr style=\"text-align: right;\">\n",
       "      <th></th>\n",
       "      <th>0</th>\n",
       "      <th>1</th>\n",
       "    </tr>\n",
       "  </thead>\n",
       "  <tbody>\n",
       "    <tr>\n",
       "      <th>0</th>\n",
       "      <td>29.648711</td>\n",
       "      <td>38.663485</td>\n",
       "    </tr>\n",
       "    <tr>\n",
       "      <th>1</th>\n",
       "      <td>24.182917</td>\n",
       "      <td>-1.265962</td>\n",
       "    </tr>\n",
       "    <tr>\n",
       "      <th>2</th>\n",
       "      <td>28.749167</td>\n",
       "      <td>-9.350181</td>\n",
       "    </tr>\n",
       "    <tr>\n",
       "      <th>3</th>\n",
       "      <td>44.672066</td>\n",
       "      <td>7.973770</td>\n",
       "    </tr>\n",
       "    <tr>\n",
       "      <th>4</th>\n",
       "      <td>27.355228</td>\n",
       "      <td>27.813403</td>\n",
       "    </tr>\n",
       "    <tr>\n",
       "      <th>5</th>\n",
       "      <td>24.921940</td>\n",
       "      <td>39.655936</td>\n",
       "    </tr>\n",
       "    <tr>\n",
       "      <th>6</th>\n",
       "      <td>27.464513</td>\n",
       "      <td>-7.799738</td>\n",
       "    </tr>\n",
       "    <tr>\n",
       "      <th>7</th>\n",
       "      <td>39.714806</td>\n",
       "      <td>-5.397905</td>\n",
       "    </tr>\n",
       "    <tr>\n",
       "      <th>8</th>\n",
       "      <td>-43.950192</td>\n",
       "      <td>109.409248</td>\n",
       "    </tr>\n",
       "    <tr>\n",
       "      <th>9</th>\n",
       "      <td>38.343493</td>\n",
       "      <td>-9.193928</td>\n",
       "    </tr>\n",
       "  </tbody>\n",
       "</table>\n",
       "</div>"
      ],
      "text/plain": [
       "           0           1\n",
       "0  29.648711   38.663485\n",
       "1  24.182917   -1.265962\n",
       "2  28.749167   -9.350181\n",
       "3  44.672066    7.973770\n",
       "4  27.355228   27.813403\n",
       "5  24.921940   39.655936\n",
       "6  27.464513   -7.799738\n",
       "7  39.714806   -5.397905\n",
       "8 -43.950192  109.409248\n",
       "9  38.343493   -9.193928"
      ]
     },
     "execution_count": 125,
     "metadata": {},
     "output_type": "execute_result"
    }
   ],
   "source": [
    "rfr1.head(10)"
   ]
  },
  {
   "cell_type": "markdown",
   "metadata": {},
   "source": [
    "Now the algorithm says that the meteorite \"Mason Gully\" landed in the Middle East, which is not quite right."
   ]
  },
  {
   "cell_type": "markdown",
   "metadata": {},
   "source": [
    "## Machine Learning conclusion\n",
    "\n",
    "After numerous tunings, algorithms, models and statistical analysis, I could not build an accurate model to predict something as detailed as the geographic location of the next meteorite landings based only on three features. I need more information to correctly identify the independent variables. Although the score of 60% is honorable, it is not as precise as I want it to be. \n",
    "\n",
    "The dataset needs more information, like the chemical composition of each class to determine, for example, whether a meteorite will reach planet earth or will get dezintegrated in the atmosphere prior to its landing. The missing data also played a major role in altering negatively the results of the predictions. "
   ]
  },
  {
   "cell_type": "markdown",
   "metadata": {},
   "source": [
    "# Capstone conclusion  \n",
    "\n",
    "During this interesting journey, the following objectives were reached:\n",
    "1. The dataset was properly cleaned;\n",
    "2. The dataset was separated into different segments, each segment having a specific\n",
    "purpose;\n",
    "3. Important segments were adequately visualized via scatter plots, histograms, box plots\n",
    "and map boxes;\n",
    "4. Interesting statistical analysis were conducted on the dataset (t-test, EDF, PDF...);\n",
    "5. The dataset was correctly encoded to be ready for the machine learning part;\n",
    "6. After experimenting different machine learning algorithms (supervised and\n",
    "unsupervised) and combinations (classification and regression), Random Forest\n",
    "Regressor was always giving satisfying results;\n",
    "7. After a multitude of tests, determining where the next meteorite landings will occur\n",
    "was the most realistic prediction;\n",
    "8. With only three features that can be observed and determined via telescopes, the\n",
    "algorithm was giving a fair score;\n",
    "9. A cross validation and a grid search were performed on the dataset to enhance the test\n",
    "score and to reduce over-fitting, successfully;\n",
    "10. An application of the model was performed and the results were shown on a new dataframe."
   ]
  }
 ],
 "metadata": {
  "kernelspec": {
   "display_name": "Python 3",
   "language": "python",
   "name": "python3"
  },
  "language_info": {
   "codemirror_mode": {
    "name": "ipython",
    "version": 3
   },
   "file_extension": ".py",
   "mimetype": "text/x-python",
   "name": "python",
   "nbconvert_exporter": "python",
   "pygments_lexer": "ipython3",
   "version": "3.6.6"
  }
 },
 "nbformat": 4,
 "nbformat_minor": 2
}
